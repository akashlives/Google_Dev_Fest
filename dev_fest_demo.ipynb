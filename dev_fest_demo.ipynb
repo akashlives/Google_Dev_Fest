{
 "cells": [
  {
   "cell_type": "markdown",
   "metadata": {},
   "source": [
    "# Demo notebook for G Dev Fest 2024\n",
    "## Author: Akash Shetty"
   ]
  },
  {
   "cell_type": "markdown",
   "metadata": {},
   "source": [
    "### Demo List: \n",
    "1. LLM API Calling\n",
    "2. LLM Tool Calling\n",
    "3. LLM ReAct Agent\n",
    "4. Structured Outputs from documents\n",
    "5. Collaboration Multi Agent\n",
    "6. Supervisor Multi Agent\n",
    "7. Hierarchical Multi Agent\n",
    "8. Planning Agent\n",
    "9. LangSmith"
   ]
  },
  {
   "cell_type": "markdown",
   "metadata": {},
   "source": [
    "# LLM API Calling"
   ]
  },
  {
   "cell_type": "code",
   "execution_count": 132,
   "metadata": {},
   "outputs": [],
   "source": [
    "from langchain_google_genai import ChatGoogleGenerativeAI\n",
    "from langchain_openai import ChatOpenAI\n",
    "import pprint as pp\n",
    "\n",
    "g_llm = ChatGoogleGenerativeAI(model=\"gemini-pro\")\n",
    "o_llm = ChatOpenAI(model=\"gpt-4o-mini\")\n",
    "response = g_llm.invoke(\"Write a poem about attending Google Dev Fest 2024\")"
   ]
  },
  {
   "cell_type": "code",
   "execution_count": 133,
   "metadata": {},
   "outputs": [
    {
     "name": "stdout",
     "output_type": "stream",
     "text": [
      "(\"**Ode to Dev Fest '24**\\n\"\n",
      " '\\n'\n",
      " \"In Silicon's realm, where innovation thrives,\\n\"\n",
      " \"Google Dev Fest '24, where knowledge thrives.\\n\"\n",
      " 'A gathering of minds, a tech-filled spree,\\n'\n",
      " 'Where developers convene, a vibrant sea.\\n'\n",
      " '\\n'\n",
      " 'Amidst the grandeur, where ideas ignite,\\n'\n",
      " 'We delve into code, a world of pure delight.\\n'\n",
      " 'Keynotes inspire, sessions ignite our flame,\\n'\n",
      " 'As we embrace the future, with passion untamed.\\n'\n",
      " '\\n'\n",
      " \"From quantum computing to AI's vast sway,\\n\"\n",
      " 'We explore the frontiers, where possibilities lay.\\n'\n",
      " 'Android, Chrome, Cloud, a symphony of tools,\\n'\n",
      " 'Unleashing our potential, breaking through old rules.\\n'\n",
      " '\\n'\n",
      " 'Workshops empower us, hands-on and bold,\\n'\n",
      " 'Building solutions that stories unfold.\\n'\n",
      " \"Mentors guide us, sharing their wisdom's glow,\\n\"\n",
      " 'Nurturing our skills, helping our knowledge grow.\\n'\n",
      " '\\n'\n",
      " 'Networking thrives, as connections are made,\\n'\n",
      " 'Exchanging insights, thoughts that cascade.\\n'\n",
      " 'Collaborations bloom, ideas take flight,\\n'\n",
      " 'Igniting innovation, in the darkest of night.\\n'\n",
      " '\\n'\n",
      " 'At Google Dev Fest, a tech-savvy affair,\\n'\n",
      " 'We witness the future, beyond compare.\\n'\n",
      " 'A celebration of progress, a testament to dreams,\\n'\n",
      " 'Where developers unite, and inspiration gleams.\\n'\n",
      " '\\n'\n",
      " \"So let us gather, in '24 anew,\\n\"\n",
      " 'At Google Dev Fest, where our spirits renew.\\n'\n",
      " 'May the knowledge we gain, the connections we forge,\\n'\n",
      " 'Empower us to shape the world, with every line of code.')\n"
     ]
    }
   ],
   "source": [
    "pp.pprint(response.content)"
   ]
  },
  {
   "cell_type": "code",
   "execution_count": 134,
   "metadata": {},
   "outputs": [],
   "source": [
    "from langgraph.checkpoint.memory import MemorySaver\n",
    "from langgraph.graph import START, MessagesState, StateGraph\n",
    "\n",
    "# Define a new graph\n",
    "workflow = StateGraph(state_schema=MessagesState)\n",
    "\n",
    "\n",
    "# Define the function that calls the model\n",
    "def call_model(state: MessagesState):\n",
    "    response = o_llm.invoke(state[\"messages\"])\n",
    "    return {\"messages\": response}\n",
    "\n",
    "\n",
    "# Define the node in the graph\n",
    "workflow.add_edge(START, \"model\")\n",
    "workflow.add_node(\"model\", call_model)\n",
    "\n",
    "# Add memory\n",
    "memory = MemorySaver()\n",
    "app = workflow.compile(checkpointer=memory)"
   ]
  },
  {
   "cell_type": "code",
   "execution_count": 135,
   "metadata": {},
   "outputs": [
    {
     "data": {
      "image/jpeg": "[encoded data removed]",
      "text/plain": [
       "<IPython.core.display.Image object>"
      ]
     },
     "metadata": {},
     "output_type": "display_data"
    }
   ],
   "source": [
    "from IPython.display import Image\n",
    "display(Image(app.get_graph().draw_mermaid_png()))"
   ]
  },
  {
   "cell_type": "code",
   "execution_count": 136,
   "metadata": {},
   "outputs": [
    {
     "name": "stdout",
     "output_type": "stream",
     "text": [
      "==================================\u001b[1m Ai Message \u001b[0m==================================\n",
      "\n",
      "That sounds amazing! Google Dev Fest events are always a great opportunity to meet fellow developers, learn about the latest technologies, and participate in hands-on workshops. What sessions or activities are you looking forward to the most?\n",
      "None\n"
     ]
    }
   ],
   "source": [
    "from langchain_core.messages import HumanMessage\n",
    "\n",
    "config = {\"configurable\": {\"thread_id\": \"abc123\"}}\n",
    "\n",
    "query = \"Hi! I'm at Google Dev Fest 2024. The crowd is dope.\"\n",
    "\n",
    "input_messages = [HumanMessage(query)]\n",
    "output = app.invoke({\"messages\": input_messages}, config)\n",
    "pp.pprint(output[\"messages\"][-1].pretty_print())"
   ]
  },
  {
   "cell_type": "code",
   "execution_count": 137,
   "metadata": {},
   "outputs": [
    {
     "name": "stdout",
     "output_type": "stream",
     "text": [
      "('It sounds like you might be feeling a bit overwhelmed at the event! If '\n",
      " \"you're feeling lost, here are a few tips to help you get your bearings:\\n\"\n",
      " '\\n'\n",
      " '1. **Check the Event Schedule**: Look for a printed program or an app that '\n",
      " 'lists the schedule of sessions, workshops, and keynotes. This can help you '\n",
      " 'find your way to where you want to go.\\n'\n",
      " '\\n'\n",
      " '2. **Find Information Booths**: Most events have information or help desks '\n",
      " 'where volunteers can assist you with directions and information about the '\n",
      " 'event.\\n'\n",
      " '\\n'\n",
      " '3. **Look for Signage**: There are usually signs around the venue that '\n",
      " 'indicate where different sessions are taking place or where amenities like '\n",
      " 'restrooms and food are located.\\n'\n",
      " '\\n'\n",
      " '4. **Network with Others**: Don’t hesitate to ask fellow attendees for help '\n",
      " 'or guidance. They might be able to point you in the right direction or even '\n",
      " 'join you for the next session.\\n'\n",
      " '\\n'\n",
      " \"5. **Take a Break**: If you're feeling really overwhelmed, find a quieter \"\n",
      " 'spot to take a breather. Sometimes stepping away for a moment can help you '\n",
      " 'regain your focus.\\n'\n",
      " '\\n'\n",
      " 'If you share a bit more about what you’re trying to find or where you want '\n",
      " 'to go, I might be able to offer more specific advice!')\n"
     ]
    }
   ],
   "source": [
    "query = \"Where am I? I am fell lost.\"\n",
    "input_messages = [HumanMessage(query)]\n",
    "output = app.invoke({\"messages\": input_messages}, config)\n",
    "pp.pprint(output[\"messages\"][-1].content)\n",
    "\n"
   ]
  },
  {
   "cell_type": "code",
   "execution_count": 138,
   "metadata": {},
   "outputs": [
    {
     "name": "stdout",
     "output_type": "stream",
     "text": [
      "|It| sounds| like| you| might| be| feeling| a| bit| overwhelmed| at| the| event|!| If| you're| feeling| lost|,| here| are| a| few| tips| to| help| you| get| your| bearings|:\n",
      "\n",
      "|1|.| **|Check| the| Event| Schedule|**|:| Look| for| a| printed| program| or| an| app| that| lists| the| schedule| of| sessions|,| workshops|,| and| key|notes|.| This| can| help| you| find| your| way| to| where| you| want| to| go|.\n",
      "\n",
      "|2|.| **|Find| Information| Booth|s|**|:| Most| events| have| information| or| help| desks| where| volunteers| can| assist| you| with| directions| and| information| about| the| event|.\n",
      "\n",
      "|3|.| **|Look| for| Sign|age|**|:| There| are| usually| signs| around| the| venue| that| indicate| where| different| sessions| are| taking| place| or| where| amenities| like| rest|rooms| and| food| are| located|.\n",
      "\n",
      "|4|.| **|Network| with| Others|**|:| Don|’t| hesitate| to| ask| fellow| attendees| for| help| or| guidance|.| They| might| be| able| to| point| you| in| the| right| direction| or| even| join| you| for| the| next| session|.\n",
      "\n",
      "|5|.| **|Take| a| Break|**|:| If| you're| feeling| really| overwhelmed|,| find| a| quieter| spot| to| take| a| bre|ather|.| Sometimes| stepping| away| for| a| moment| can| help| you| regain| your| focus|.\n",
      "\n",
      "|If| you| share| a| bit| more| about| what| you|’re| trying| to| find| or| where| you| want| to| go|,| I| might| be| able| to| offer| more| specific| advice|!||"
     ]
    }
   ],
   "source": [
    "from langchain_core.messages import AIMessage\n",
    "\n",
    "for chunk, metadata in app.stream(\n",
    "    {\"messages\": input_messages},\n",
    "    config,\n",
    "    stream_mode=\"messages\",\n",
    "):\n",
    "    if isinstance(chunk, AIMessage):  # Filter to just model responses\n",
    "        print(chunk.content, end=\"|\")"
   ]
  },
  {
   "cell_type": "markdown",
   "metadata": {},
   "source": [
    "# LLM Tool Calling and ReAct Agent"
   ]
  },
  {
   "cell_type": "code",
   "execution_count": 139,
   "metadata": {},
   "outputs": [],
   "source": [
    "from langchain_community.tools import TavilySearchResults\n",
    "from typing import List, Tuple\n",
    "from typing_extensions import Annotated\n",
    "\n",
    "from langchain_core.messages import ToolMessage\n",
    "from langchain_core.tools import tool\n",
    "from langgraph.prebuilt import InjectedState\n",
    "from langchain_community.tools import WikipediaQueryRun\n",
    "from langchain_community.utilities import WikipediaAPIWrapper\n",
    "\n",
    "\n",
    "api_wrapper = WikipediaAPIWrapper(top_k_results=1, doc_content_chars_max=100)"
   ]
  },
  {
   "cell_type": "code",
   "execution_count": 140,
   "metadata": {},
   "outputs": [],
   "source": [
    "search_tool = TavilySearchResults(\n",
    "    max_results=5,\n",
    "    search_depth=\"advanced\",\n",
    "    include_answer=True,\n",
    "    include_raw_content=True,\n",
    "    include_images=True,\n",
    ")\n",
    "\n",
    "wiki_tool = WikipediaQueryRun(api_wrapper=api_wrapper)"
   ]
  },
  {
   "cell_type": "code",
   "execution_count": 141,
   "metadata": {},
   "outputs": [],
   "source": [
    "@tool\n",
    "def get_context(question: str, state: Annotated[dict, InjectedState]):\n",
    "    \"\"\"Get relevant context for answering the question.\"\"\"\n",
    "    return \"\\n\\n\".join(doc for doc in state[\"docs\"])"
   ]
  },
  {
   "cell_type": "code",
   "execution_count": 142,
   "metadata": {},
   "outputs": [],
   "source": [
    "@tool\n",
    "def get_weather(location: str):\n",
    "    \"\"\"Call to get the current weather.\"\"\"\n",
    "    if location.lower() in [\"sf\", \"san francisco\"]:\n",
    "        return \"It's 60 degrees and foggy.\"\n",
    "    else:\n",
    "        return \"It's 90 degrees and sunny.\""
   ]
  },
  {
   "cell_type": "code",
   "execution_count": 143,
   "metadata": {},
   "outputs": [],
   "source": [
    "from langchain_openai import ChatOpenAI\n",
    "from langgraph.prebuilt import ToolNode, create_react_agent\n",
    "from langgraph.checkpoint.memory import MemorySaver"
   ]
  },
  {
   "cell_type": "code",
   "execution_count": 144,
   "metadata": {},
   "outputs": [],
   "source": [
    "tools = [search_tool, wiki_tool, get_context, get_weather]"
   ]
  },
  {
   "cell_type": "code",
   "execution_count": 145,
   "metadata": {},
   "outputs": [],
   "source": [
    "from typing import List\n",
    "from langgraph.prebuilt.chat_agent_executor import AgentState\n",
    "from langchain_core.documents import Document\n",
    "\n",
    "\n",
    "class State(AgentState):\n",
    "    docs: List[str]"
   ]
  },
  {
   "cell_type": "code",
   "execution_count": 146,
   "metadata": {},
   "outputs": [],
   "source": [
    "tool_node = ToolNode(tools)\n",
    "checkpointer = MemorySaver()\n",
    "app = create_react_agent(\n",
    "    model=o_llm, tools=tool_node, state_schema=State, checkpointer=checkpointer\n",
    ")"
   ]
  },
  {
   "cell_type": "code",
   "execution_count": 147,
   "metadata": {},
   "outputs": [
    {
     "data": {
      "image/jpeg": "[encoded data removed]",
      "text/plain": [
       "<IPython.core.display.Image object>"
      ]
     },
     "metadata": {},
     "output_type": "display_data"
    }
   ],
   "source": [
    "display(Image(app.get_graph().draw_mermaid_png()))"
   ]
  },
  {
   "cell_type": "code",
   "execution_count": 148,
   "metadata": {},
   "outputs": [
    {
     "name": "stdout",
     "output_type": "stream",
     "text": [
      "================================\u001b[1m Human Message \u001b[0m=================================\n",
      "\n",
      "what's the latest news about Google Dev Fest 2024\n",
      "==================================\u001b[1m Ai Message \u001b[0m==================================\n",
      "Tool Calls:\n",
      "  tavily_search_results_json (call_MdrQksake6vIMfDWV52mvKyQ)\n",
      " Call ID: call_MdrQksake6vIMfDWV52mvKyQ\n",
      "  Args:\n",
      "    query: Google Dev Fest 2024 news\n",
      "=================================\u001b[1m Tool Message \u001b[0m=================================\n",
      "Name: tavily_search_results_json\n",
      "\n",
      "[{\"url\": \"https://gdg.community.dev/events/details/google-gdg-malmo-presents-devfest-2024/\", \"content\": \"DevFest 2024. Stora Varvsgatan 6A, 6A Stora Varvsgatan, Malmö, 211 19. GDG Malmö. DevFest 2024 is a global community-led tech conference hosted by Google Developer Groups, focusing on the latest in technology, software development, and innovation.\"}, {\"url\": \"https://gdg.community.dev/events/details/google-gdg-zagreb-presents-devfest-2024/\", \"content\": \"DevFest 2024. 🎉 DevFest 2024 is just around the corner and you won't want to miss this tech extravaganza happening live in Zagreb on October 25th, 2024. Organized by GDG Zagreb, GDG Osijek, GDG Krapina and WTM Croatia, this event is set to be an unforgettable experience for tech enthusiasts. 🎫 The tickets are now up for grabs!\"}, {\"url\": \"https://devfest.gdgchennai.in/\", \"content\": \"Come learn, network and celebrate with the Google Developer Ecosystem while also learning to hack on Android, Chrome, and Web. 00 Days. 00 Hours. 00 Min. 00 Sec. Why attend? We have a fantastic lineup of speakers and sessions for you to learn and enhance your skills. Our perks ... DevFest 2024 Come. Learn, Network and Celebrate with Google\"}, {\"url\": \"https://gdg.community.dev/events/details/google-gdg-new-delhi-presents-devfest-new-delhi-2024/\", \"content\": \"See DevFest New Delhi 2024 at Google Developer Groups GDG New Delhi Upcoming Events DevFest New Delhi 2024 GDG New Delhi GDG New Delhi is proud to present DevFest New Delhi 2024, the biggest event of the year for developers, designers, and techies. About this event GDG New Delhi is proud to present DevFest New Delhi 2024, the biggest event of the year for developers, designers, and techies. 1- I want to give a talk/conduct a codelab at the event. 3- Awesome event. Ans- Either mail us at gdgnewdelhi@gmail.com or fill Call for Partnerships. Ans- Either mail us at gdgnewdelhi@gmail.com or fill Call for Collaboration. Co-Organiser, GDG New Delhi Event not ready Upcoming Events Organizer Terms & Conditions\"}, {\"url\": \"https://io.google/\", \"content\": \"Google I/O 2024 Google I/O 2024 Don't miss our biggest developer conference, featuring product news and innovations from Google. Tune in to I/O for livestreamed keynotes and technical sessions on demand. Don't miss our biggest developer conference, featuring product news and innovations from Google.\"}]\n",
      "==================================\u001b[1m Ai Message \u001b[0m==================================\n",
      "\n",
      "Here are some of the latest updates regarding Google Dev Fest 2024:\n",
      "\n",
      "1. **DevFest in Malmö**: A global community-led tech conference hosted by Google Developer Groups, DevFest 2024 will focus on the latest in technology, software development, and innovation. You can find more details [here](https://gdg.community.dev/events/details/google-gdg-malmo-presents-devfest-2024/).\n",
      "\n",
      "2. **DevFest in Zagreb**: Scheduled for October 25, 2024, this event is organized by GDG Zagreb, GDG Osijek, GDG Krapina, and WTM Croatia. Tickets are now available for this exciting tech extravaganza. More information can be found [here](https://gdg.community.dev/events/details/google-gdg-zagreb-presents-devfest-2024/).\n",
      "\n",
      "3. **DevFest in New Delhi**: GDG New Delhi is set to host DevFest 2024, which is touted as the biggest event of the year for developers, designers, and tech enthusiasts. Further details can be accessed [here](https://gdg.community.dev/events/details/google-gdg-new-delhi-presents-devfest-new-delhi-2024/).\n",
      "\n",
      "4. **General Information**: DevFest events are designed to help attendees learn, network, and celebrate within the Google Developer Ecosystem, featuring a lineup of speakers and sessions. A dedicated website for DevFest Chennai provides additional insights [here](https://devfest.gdgchennai.in/).\n",
      "\n",
      "These events are set to be significant gatherings for tech enthusiasts and developers worldwide, showcasing the latest in technology and innovation.\n"
     ]
    }
   ],
   "source": [
    "docs = [\n",
    "    \"FooBar company just raised 1 Billion dollars!\",\n",
    "    \"FooBar company was founded in 2019\",\n",
    "]\n",
    "\n",
    "inputs = {\n",
    "    \"messages\": [{\"type\": \"user\", \"content\": \"what's the latest news about Google Dev Fest 2024\"}],\n",
    "    \"docs\": docs,\n",
    "}\n",
    "config = {\"configurable\": {\"thread_id\": \"1\"}}\n",
    "for chunk in app.stream(inputs, config, stream_mode=\"values\"):\n",
    "    chunk[\"messages\"][-1].pretty_print()"
   ]
  },
  {
   "cell_type": "code",
   "execution_count": 149,
   "metadata": {},
   "outputs": [
    {
     "name": "stdout",
     "output_type": "stream",
     "text": [
      "================================\u001b[1m Human Message \u001b[0m=================================\n",
      "\n",
      "Tell me Sundar Pichai Wiki page\n",
      "==================================\u001b[1m Ai Message \u001b[0m==================================\n",
      "Tool Calls:\n",
      "  wikipedia (call_zzbemuWQVCcWD3uMj2s6AFBA)\n",
      " Call ID: call_zzbemuWQVCcWD3uMj2s6AFBA\n",
      "  Args:\n",
      "    query: Sundar Pichai\n",
      "=================================\u001b[1m Tool Message \u001b[0m=================================\n",
      "Name: wikipedia\n",
      "\n",
      "Page: Sundar Pichai\n",
      "Summary: Pichai Sundararajan (born June 10, 1972), better known as Sundar Pichai\n",
      "==================================\u001b[1m Ai Message \u001b[0m==================================\n",
      "\n",
      "Sundar Pichai, born on June 10, 1972, is an Indian-American business executive best known as the CEO of Alphabet Inc. and its subsidiary Google LLC. He originally joined Google in 2004, where he initially worked on Google Toolbar and later led the development of Google Chrome, which became one of the most popular web browsers globally.\n",
      "\n",
      "Pichai's leadership style emphasizes collaboration and innovation, and he has played a pivotal role in driving Google's growth and expanding its product offerings. In 2015, he was appointed CEO of Google, and in December 2019, he became the CEO of Alphabet Inc. as well, following the company's restructuring.\n",
      "\n",
      "Under his leadership, Google has focused on artificial intelligence, cloud computing, and hardware initiatives. Pichai is known for his approachable demeanor and has been recognized for his contributions to the tech industry.\n",
      "\n",
      "For more detailed information, you can visit his [Wikipedia page](https://en.wikipedia.org/wiki/Sundar_Pichai).\n"
     ]
    }
   ],
   "source": [
    "inputs = {\n",
    "    \"messages\": [\n",
    "        {\"type\": \"user\", \"content\": \"Tell me Sundar Pichai Wiki page\"}\n",
    "    ],\n",
    "    \"docs\": docs,\n",
    "}\n",
    "config = {\"configurable\": {\"thread_id\": \"1\"}}\n",
    "for chunk in app.stream(inputs, config, stream_mode=\"values\"):\n",
    "    chunk[\"messages\"][-1].pretty_print()"
   ]
  },
  {
   "cell_type": "code",
   "execution_count": 150,
   "metadata": {},
   "outputs": [
    {
     "name": "stdout",
     "output_type": "stream",
     "text": [
      "================================\u001b[1m Human Message \u001b[0m=================================\n",
      "\n",
      "Tell me Todays weather in San Francisco\n",
      "==================================\u001b[1m Ai Message \u001b[0m==================================\n",
      "Tool Calls:\n",
      "  get_weather (call_89DpdjmUPTjWwUWQPtCpYweK)\n",
      " Call ID: call_89DpdjmUPTjWwUWQPtCpYweK\n",
      "  Args:\n",
      "    location: San Francisco\n",
      "=================================\u001b[1m Tool Message \u001b[0m=================================\n",
      "Name: get_weather\n",
      "\n",
      "It's 60 degrees and foggy.\n",
      "==================================\u001b[1m Ai Message \u001b[0m==================================\n",
      "\n",
      "Today's weather in San Francisco is 60 degrees Fahrenheit and foggy.\n"
     ]
    }
   ],
   "source": [
    "inputs = {\n",
    "    \"messages\": [{\"type\": \"user\", \"content\": \"Tell me Todays weather in San Francisco\"}],\n",
    "    \"docs\": docs,\n",
    "}\n",
    "config = {\"configurable\": {\"thread_id\": \"1\"}}\n",
    "for chunk in app.stream(inputs, config, stream_mode=\"values\"):\n",
    "    chunk[\"messages\"][-1].pretty_print()"
   ]
  },
  {
   "cell_type": "markdown",
   "metadata": {},
   "source": [
    "# LLM Structured Outputs from documents"
   ]
  },
  {
   "cell_type": "code",
   "execution_count": 151,
   "metadata": {},
   "outputs": [],
   "source": [
    "# Extracted from Web scraping\n",
    "g_dev_fest_web = \"\"\"\n",
    "DevFest Mississauga x GDG Sheridan DevFest 2024\n",
    "\n",
    "Location: Sheridan College Square One, 4180 Duke of York Boulevard, Mississauga, L5B 3W3\n",
    "Date & Time: Saturday, November 2, 2024, 9:00 AM – 5:00 PM (EDT)\n",
    "Organizers:\n",
    "Ash Srivastava - Organizer (Red Pico)\n",
    "Rucha Acharya - Co-Organizer\n",
    "John Quien - Co-Organizer\n",
    "Event Overview\n",
    "Join GDG Mississauga for DevFest 2024! Dive into exciting sessions featuring industry leaders who will share their insights and experiences, sparking your passion for technology. Whether you’re a seasoned developer or just starting your journey, this event has something for everyone.\n",
    "\n",
    "Key Themes\n",
    "AI - Harness the power of Artificial Intelligence in modern applications.\n",
    "Build with AI - Practical workshops to build AI-powered solutions.\n",
    "Career Development - Sessions focused on advancing your career in tech.\n",
    "Networking - Opportunities to connect with professionals and like-minded innovators.\n",
    "Event Highlights\n",
    "🚀 Hands-On Workshops: Participate in workshops to build your own projects using cutting-edge AI tools. This is an opportunity to turn ideas into reality!\n",
    "🌐 Networking Opportunities: Connect with fellow tech enthusiasts, seasoned professionals, and innovators. Expand your network for potential collaborations.\n",
    "🔥 Inspirational Talks: Hear from influential speakers who are shaping the future of tech. Get motivated and equipped with the knowledge you need to thrive in this ever-evolving industry.\n",
    "Key Sessions (from Agenda)\n",
    "Registration: 9:00 AM - 10:00 AM\n",
    "Welcome and Agenda Overview: 10:00 AM - 10:10 AM by John Quien, Rucha Acharya, Connor Uhrig\n",
    "Keynote: 10:10 AM - 10:20 AM by Ash Srivastava\n",
    "Supercharge Your AI - Build RAG Solutions with AI: 10:20 AM - 11:45 AM by Faisal Abid\n",
    "Lunch/Networking: 11:50 AM - 12:50 PM\n",
    "Power of Mentorship - CoMunity Canada: 1:00 PM - 1:30 PM by Sachin Kodate, Siddhesh Thakur\n",
    "Women Leaders in Tech Panel: 1:30 PM - 2:20 PM with Frincy Clement, Valeria Ponis, Lavanya Natarajan\n",
    "Building Scalable AI Agents for Content Creation: 2:30 PM - 3:30 PM by Akash Shetty\n",
    "Use No Code AI Tools to Create SaaS Applications: 3:45 PM - 4:00 PM by Abhijit Temkar\n",
    "Networking and Job Searching in Tech: 4:00 PM - 4:30 PM by Samiha Nusrat, Tenille Chisholm\n",
    "Raffle Prizes and Closing: 4:30 PM - 4:45 PM\n",
    "Social Media & Contact\n",
    "Social Media Links:\n",
    "\n",
    "Facebook, Twitter, LinkedIn sharing options available.\n",
    "Contact Information: For inquiries, you can reach out to the organizing team via the contact form on the website.\n",
    "\n",
    "#DevFest2024 #GDGMississauga #TechInnovation\n",
    "\n",
    "Quick Links:\n",
    "\n",
    "About GDG\n",
    "Chapters\n",
    "Upcoming Events\n",
    "Privacy Policy\n",
    "Terms\n",
    "Note: The event is sold out with 349 RSVPs.\n",
    "\"\"\""
   ]
  },
  {
   "cell_type": "code",
   "execution_count": 152,
   "metadata": {},
   "outputs": [],
   "source": [
    "from typing import List, Optional\n",
    "from pydantic import BaseModel, Field\n",
    "from langchain_core.prompts import ChatPromptTemplate\n",
    "\n",
    "\n",
    "class Organizer(BaseModel):\n",
    "    name: str = Field(description=\"Name of the organizer.\")\n",
    "    role: str = Field(description=\"Role of the organizer.\")\n",
    "    affiliation: Optional[str] = Field(\n",
    "        description=\"Affiliation of the organizer, if available.\"\n",
    "    )\n",
    "\n",
    "\n",
    "class Session(BaseModel):\n",
    "    title: str = Field(description=\"Title of the session.\")\n",
    "    time: str = Field(description=\"Timeslot for the session.\")\n",
    "    speakers: List[str] = Field(description=\"Speakers of the session.\")\n",
    "\n",
    "\n",
    "class DevFestEvent(BaseModel):\n",
    "    title: str = Field(description=\"Event title.\")\n",
    "    location: str = Field(description=\"Location of the event.\")\n",
    "    date_time: str = Field(description=\"Date and time of the event.\")\n",
    "    organizers: List[Organizer] = Field(description=\"List of organizers.\")\n",
    "    overview: str = Field(description=\"Overview of the event.\")\n",
    "    key_themes: List[str] = Field(description=\"Key themes of the event.\")\n",
    "    highlights: List[str] = Field(description=\"Highlights of the event.\")\n",
    "    sessions: List[Session] = Field(description=\"Sessions in the event.\")\n",
    "    social_media_links: List[str] = Field(description=\"Social media sharing options.\")\n",
    "    contact_info: str = Field(description=\"Contact information for the event.\")\n",
    "    quick_links: List[str] = Field(description=\"Quick links related to the event.\")\n",
    "    note: Optional[str] = Field(description=\"Additional notes about the event.\")\n",
    "\n",
    "\n",
    "devfest_prompt_template = ChatPromptTemplate.from_messages(\n",
    "    [\n",
    "        (\n",
    "            \"system\",\n",
    "            \"\"\"Extract and structure the information about the event as per the DevFestEvent schema.\n",
    "            Parse the details for event title, location, date and time, organizers, event overview, key themes, highlights,\n",
    "            sessions, social media links, contact information, quick links, and any additional notes.\"\"\",\n",
    "        ),\n",
    "        (\"user\", \"{event_text}\"),\n",
    "    ]\n",
    ")\n",
    "\n",
    "devfest_event_extraction = devfest_prompt_template | ChatOpenAI(\n",
    "    model=\"gpt-4o-mini\", temperature=0\n",
    ").with_structured_output(DevFestEvent)"
   ]
  },
  {
   "cell_type": "code",
   "execution_count": 153,
   "metadata": {},
   "outputs": [],
   "source": [
    "response = devfest_event_extraction.invoke({\"event_text\": g_dev_fest_web})"
   ]
  },
  {
   "cell_type": "code",
   "execution_count": 154,
   "metadata": {},
   "outputs": [
    {
     "data": {
      "text/plain": [
       "{'title': 'DevFest Mississauga x GDG Sheridan DevFest 2024',\n",
       " 'location': 'Sheridan College Square One, 4180 Duke of York Boulevard, Mississauga, L5B 3W3',\n",
       " 'date_time': 'Saturday, November 2, 2024, 9:00 AM – 5:00 PM (EDT)',\n",
       " 'organizers': [{'name': 'Ash Srivastava',\n",
       "   'role': 'Organizer',\n",
       "   'affiliation': 'Red Pico'},\n",
       "  {'name': 'Rucha Acharya', 'role': 'Co-Organizer', 'affiliation': None},\n",
       "  {'name': 'John Quien', 'role': 'Co-Organizer', 'affiliation': None}],\n",
       " 'overview': 'Join GDG Mississauga for DevFest 2024! Dive into exciting sessions featuring industry leaders who will share their insights and experiences, sparking your passion for technology. Whether you’re a seasoned developer or just starting your journey, this event has something for everyone.',\n",
       " 'key_themes': ['AI - Harness the power of Artificial Intelligence in modern applications.',\n",
       "  'Build with AI - Practical workshops to build AI-powered solutions.',\n",
       "  'Career Development - Sessions focused on advancing your career in tech.',\n",
       "  'Networking - Opportunities to connect with professionals and like-minded innovators.'],\n",
       " 'highlights': ['🚀 Hands-On Workshops: Participate in workshops to build your own projects using cutting-edge AI tools. This is an opportunity to turn ideas into reality!',\n",
       "  '🌐 Networking Opportunities: Connect with fellow tech enthusiasts, seasoned professionals, and innovators. Expand your network for potential collaborations.',\n",
       "  '🔥 Inspirational Talks: Hear from influential speakers who are shaping the future of tech. Get motivated and equipped with the knowledge you need to thrive in this ever-evolving industry.'],\n",
       " 'sessions': [{'title': 'Registration',\n",
       "   'time': '9:00 AM - 10:00 AM',\n",
       "   'speakers': []},\n",
       "  {'title': 'Welcome and Agenda Overview',\n",
       "   'time': '10:00 AM - 10:10 AM',\n",
       "   'speakers': ['John Quien', 'Rucha Acharya', 'Connor Uhrig']},\n",
       "  {'title': 'Keynote',\n",
       "   'time': '10:10 AM - 10:20 AM',\n",
       "   'speakers': ['Ash Srivastava']},\n",
       "  {'title': 'Supercharge Your AI - Build RAG Solutions with AI',\n",
       "   'time': '10:20 AM - 11:45 AM',\n",
       "   'speakers': ['Faisal Abid']},\n",
       "  {'title': 'Lunch/Networking', 'time': '11:50 AM - 12:50 PM', 'speakers': []},\n",
       "  {'title': 'Power of Mentorship - CoMunity Canada',\n",
       "   'time': '1:00 PM - 1:30 PM',\n",
       "   'speakers': ['Sachin Kodate', 'Siddhesh Thakur']},\n",
       "  {'title': 'Women Leaders in Tech Panel',\n",
       "   'time': '1:30 PM - 2:20 PM',\n",
       "   'speakers': ['Frincy Clement', 'Valeria Ponis', 'Lavanya Natarajan']},\n",
       "  {'title': 'Building Scalable AI Agents for Content Creation',\n",
       "   'time': '2:30 PM - 3:30 PM',\n",
       "   'speakers': ['Akash Shetty']},\n",
       "  {'title': 'Use No Code AI Tools to Create SaaS Applications',\n",
       "   'time': '3:45 PM - 4:00 PM',\n",
       "   'speakers': ['Abhijit Temkar']},\n",
       "  {'title': 'Networking and Job Searching in Tech',\n",
       "   'time': '4:00 PM - 4:30 PM',\n",
       "   'speakers': ['Samiha Nusrat', 'Tenille Chisholm']},\n",
       "  {'title': 'Raffle Prizes and Closing',\n",
       "   'time': '4:30 PM - 4:45 PM',\n",
       "   'speakers': []}],\n",
       " 'social_media_links': ['Facebook', 'Twitter', 'LinkedIn'],\n",
       " 'contact_info': 'For inquiries, you can reach out to the organizing team via the contact form on the website.',\n",
       " 'quick_links': ['About GDG',\n",
       "  'Chapters',\n",
       "  'Upcoming Events',\n",
       "  'Privacy Policy',\n",
       "  'Terms'],\n",
       " 'note': 'The event is sold out with 349 RSVPs.'}"
      ]
     },
     "execution_count": 154,
     "metadata": {},
     "output_type": "execute_result"
    }
   ],
   "source": [
    "import json\n",
    "json.loads(response.json())"
   ]
  },
  {
   "cell_type": "markdown",
   "metadata": {},
   "source": [
    "### Collaboration Multi Agent"
   ]
  },
  {
   "cell_type": "code",
   "execution_count": 49,
   "metadata": {},
   "outputs": [],
   "source": [
    "from langchain_core.messages import (\n",
    "    BaseMessage,\n",
    "    HumanMessage,\n",
    "    ToolMessage,\n",
    ")\n",
    "from langchain_core.prompts import ChatPromptTemplate, MessagesPlaceholder\n",
    "\n",
    "from langgraph.graph import END, StateGraph, START\n",
    "\n",
    "\n",
    "def create_agent(llm, tools, system_message: str):\n",
    "    \"\"\"Create an agent.\"\"\"\n",
    "    prompt = ChatPromptTemplate.from_messages(\n",
    "        [\n",
    "            (\n",
    "                \"system\",\n",
    "                \"You are a helpful AI assistant, collaborating with other assistants.\"\n",
    "                \" Use the provided tools to progress towards answering the question.\"\n",
    "                \" If you are unable to fully answer, that's OK, another assistant with different tools \"\n",
    "                \" will help where you left off. Execute what you can to make progress.\"\n",
    "                \" If you or any of the other assistants have the final answer or deliverable,\"\n",
    "                \" prefix your response with FINAL ANSWER so the team knows to stop.\"\n",
    "                \" You have access to the following tools: {tool_names}.\\n{system_message}\",\n",
    "            ),\n",
    "            MessagesPlaceholder(variable_name=\"messages\"),\n",
    "        ]\n",
    "    )\n",
    "    prompt = prompt.partial(system_message=system_message)\n",
    "    prompt = prompt.partial(tool_names=\", \".join([tool.name for tool in tools]))\n",
    "    return prompt | llm.bind_tools(tools)"
   ]
  },
  {
   "cell_type": "code",
   "execution_count": 50,
   "metadata": {},
   "outputs": [
    {
     "name": "stderr",
     "output_type": "stream",
     "text": [
      "<>:25: SyntaxWarning: invalid escape sequence '\\`'\n",
      "<>:25: SyntaxWarning: invalid escape sequence '\\`'\n",
      "<>:25: SyntaxWarning: invalid escape sequence '\\`'\n",
      "<>:25: SyntaxWarning: invalid escape sequence '\\`'\n",
      "/var/folders/xr/_lgq_d2n0gqcb9j65glnlwjc0000gn/T/ipykernel_54511/3679402323.py:25: SyntaxWarning: invalid escape sequence '\\`'\n",
      "  f\"Successfully executed:\\n\\`\\`\\`python\\n{code}\\n\\`\\`\\`\\nStdout: {result}\"\n",
      "/var/folders/xr/_lgq_d2n0gqcb9j65glnlwjc0000gn/T/ipykernel_54511/3679402323.py:25: SyntaxWarning: invalid escape sequence '\\`'\n",
      "  f\"Successfully executed:\\n\\`\\`\\`python\\n{code}\\n\\`\\`\\`\\nStdout: {result}\"\n"
     ]
    }
   ],
   "source": [
    "from typing import Annotated\n",
    "\n",
    "from langchain_community.tools.tavily_search import TavilySearchResults\n",
    "from langchain_core.tools import tool\n",
    "from langchain_experimental.utilities import PythonREPL\n",
    "\n",
    "tavily_tool = TavilySearchResults(max_results=5)\n",
    "\n",
    "# Warning: This executes code locally, which can be unsafe when not sandboxed\n",
    "\n",
    "repl = PythonREPL()\n",
    "\n",
    "\n",
    "@tool\n",
    "def python_repl(\n",
    "    code: Annotated[str, \"The python code to execute to generate your chart.\"],\n",
    "):\n",
    "    \"\"\"Use this to execute python code. If you want to see the output of a value,\n",
    "    you should print it out with `print(...)`. This is visible to the user.\"\"\"\n",
    "    try:\n",
    "        result = repl.run(code)\n",
    "    except BaseException as e:\n",
    "        return f\"Failed to execute. Error: {repr(e)}\"\n",
    "    result_str = (\n",
    "        f\"Successfully executed:\\n\\`\\`\\`python\\n{code}\\n\\`\\`\\`\\nStdout: {result}\"\n",
    "    )\n",
    "    return (\n",
    "        result_str + \"\\n\\nIf you have completed all tasks, respond with FINAL ANSWER.\"\n",
    "    )"
   ]
  },
  {
   "cell_type": "code",
   "execution_count": 51,
   "metadata": {},
   "outputs": [],
   "source": [
    "import operator\n",
    "from typing import Annotated, Sequence\n",
    "from typing_extensions import TypedDict\n",
    "from langchain_openai import ChatOpenAI\n",
    "\n",
    "class AgentState(TypedDict):\n",
    "    messages: Annotated[Sequence[BaseMessage], operator.add]\n",
    "    sender: str"
   ]
  },
  {
   "cell_type": "code",
   "execution_count": 61,
   "metadata": {},
   "outputs": [],
   "source": [
    "import functools\n",
    "\n",
    "from langchain_core.messages import AIMessage\n",
    "\n",
    "\n",
    "# Helper function to create a node for a given agent\n",
    "def agent_node(state, agent, name):\n",
    "    result = agent.invoke(state)\n",
    "    if isinstance(result, ToolMessage):\n",
    "        pass\n",
    "    else:\n",
    "        result = AIMessage(**result.dict(exclude={\"type\", \"name\"}), name=name)\n",
    "    return {\n",
    "        \"messages\": [result],\n",
    "        \"sender\": name,\n",
    "    }\n",
    "\n",
    "\n",
    "llm = ChatOpenAI(model=\"gpt-4o-mini\")\n",
    "\n",
    "# Research agent and node\n",
    "research_agent = create_agent(\n",
    "    llm,\n",
    "    [tavily_tool],\n",
    "    system_message=\"You should provide accurate data for the chart_generator to use.\",\n",
    ")\n",
    "research_node = functools.partial(agent_node, agent=research_agent, name=\"Researcher\")\n",
    "\n",
    "# chart_generator\n",
    "chart_agent = create_agent(\n",
    "    llm,\n",
    "    [python_repl],\n",
    "    system_message=\"When requested to generate a chart, you should generate a chart and display it. Any charts you display will be visible by the user.\",\n",
    ")\n",
    "chart_node = functools.partial(agent_node, agent=chart_agent, name=\"chart_generator\")"
   ]
  },
  {
   "cell_type": "code",
   "execution_count": 62,
   "metadata": {},
   "outputs": [],
   "source": [
    "# Define the tool node\n",
    "from langgraph.prebuilt import ToolNode\n",
    "\n",
    "tools = [tavily_tool, python_repl]\n",
    "tool_node = ToolNode(tools)"
   ]
  },
  {
   "cell_type": "code",
   "execution_count": 63,
   "metadata": {},
   "outputs": [],
   "source": [
    "# Either agent can decide to end\n",
    "from typing import Literal\n",
    "\n",
    "\n",
    "def router(state):\n",
    "    messages = state[\"messages\"]\n",
    "    last_message = messages[-1]\n",
    "    if last_message.tool_calls:\n",
    "        return \"call_tool\"\n",
    "    if \"FINAL ANSWER\" in last_message.content:\n",
    "        return END\n",
    "    return \"continue\""
   ]
  },
  {
   "cell_type": "code",
   "execution_count": 64,
   "metadata": {},
   "outputs": [],
   "source": [
    "workflow = StateGraph(AgentState)\n",
    "\n",
    "workflow.add_node(\"Researcher\", research_node)\n",
    "workflow.add_node(\"chart_generator\", chart_node)\n",
    "workflow.add_node(\"call_tool\", tool_node)\n",
    "\n",
    "workflow.add_conditional_edges(\n",
    "    \"Researcher\",\n",
    "    router,\n",
    "    {\"continue\": \"chart_generator\", \"call_tool\": \"call_tool\", END: END},\n",
    ")\n",
    "workflow.add_conditional_edges(\n",
    "    \"chart_generator\",\n",
    "    router,\n",
    "    {\"continue\": \"Researcher\", \"call_tool\": \"call_tool\", END: END},\n",
    ")\n",
    "\n",
    "workflow.add_conditional_edges(\n",
    "    \"call_tool\",\n",
    "    lambda x: x[\"sender\"],\n",
    "    {\n",
    "        \"Researcher\": \"Researcher\",\n",
    "        \"chart_generator\": \"chart_generator\",\n",
    "    },\n",
    ")\n",
    "workflow.add_edge(START, \"Researcher\")\n",
    "graph = workflow.compile()"
   ]
  },
  {
   "cell_type": "code",
   "execution_count": 65,
   "metadata": {},
   "outputs": [
    {
     "data": {
      "image/jpeg": "[encoded data removed]",
      "text/plain": [
       "<IPython.core.display.Image object>"
      ]
     },
     "metadata": {},
     "output_type": "display_data"
    }
   ],
   "source": [
    "from IPython.display import Image, display\n",
    "\n",
    "display(Image(graph.get_graph(xray=True).draw_mermaid_png()))"
   ]
  },
  {
   "cell_type": "code",
   "execution_count": 69,
   "metadata": {},
   "outputs": [
    {
     "name": "stdout",
     "output_type": "stream",
     "text": [
      "{'Researcher': {'messages': [AIMessage(content='', additional_kwargs={'tool_calls': [{'id': 'call_GnO7Vd27oH9Fz8OB7RK38ObE', 'function': {'arguments': '{\"query\":\"Canada GDP data past 5 years\"}', 'name': 'tavily_search_results_json'}, 'type': 'function'}], 'refusal': None}, response_metadata={'token_usage': {'completion_tokens': 24, 'prompt_tokens': 215, 'total_tokens': 239, 'completion_tokens_details': {'audio_tokens': None, 'reasoning_tokens': 0}, 'prompt_tokens_details': {'audio_tokens': None, 'cached_tokens': 0}}, 'model_name': 'gpt-4o-mini-2024-07-18', 'system_fingerprint': 'fp_8bfc6a7dc2', 'finish_reason': 'tool_calls', 'logprobs': None}, name='Researcher', id='run-ec54a361-3536-48d1-ae13-1e625cd032f4-0', tool_calls=[{'name': 'tavily_search_results_json', 'args': {'query': 'Canada GDP data past 5 years'}, 'id': 'call_GnO7Vd27oH9Fz8OB7RK38ObE', 'type': 'tool_call'}], usage_metadata={'input_tokens': 215, 'output_tokens': 24, 'total_tokens': 239, 'input_token_details': {'cache_read': 0}, 'output_token_details': {'reasoning': 0}})], 'sender': 'Researcher'}}\n",
      "----\n",
      "{'call_tool': {'messages': [ToolMessage(content='[{\"url\": \"https://tradingeconomics.com/canada/gdp\", \"content\": \"The Gross Domestic Product (GDP) in Canada was worth 2140.09 billion US dollars in 2023, according to official data from the World Bank. The GDP value of Canada represents 2.03 percent of the world economy. This page provides - Canada GDP - actual values, historical data, forecast, chart, statistics, economic calendar and news.\"}, {\"url\": \"https://tradingeconomics.com/canada/gdp-growth\", \"content\": \"Canada GDP Growth Rate\\\\nThe Canadian GDP contracted by 0.3% in the third quarter of 2023, marking its first decline since the second quarter of 2021 and compared to a revised 0.3% expansion in the previous period. GDP Growth Rate in Canada averaged 0.75 percent from 1961 until 2023, reaching an all time high of 9.00 percent in the third quarter of 2020 and a record low of -10.90 percent in the second quarter of 2020. source: Statistics Canada\\\\nThe Gross Domestic Product (GDP) in Canada contracted 0.30 percent in the third quarter of 2023 over the previous quarter.\\\\n The Canadian GDP was pressured by a 1.3% decline in the exports of goods and services, largely due to a 25.4% slump in foreign sales of refined petroleum energy, while imports of goods and services eased by a slower 0.2%. Markets\\\\nGDP\\\\nLabour\\\\nPrices\\\\nHealth\\\\nMoney\\\\nTrade\\\\nGovernment\\\\nBusiness\\\\nConsumer\\\\nHousing\\\\nTaxes\\\\nClimate\"}, {\"url\": \"https://www.macrotrends.net/global-metrics/countries/CAN/canada/gdp-gross-domestic-product\", \"content\": \"Canada gdp for 2023 was $2,140.09B, a 0.99% decline from 2022. Canada gdp for 2022 was $2,161.48B, a 7.67% increase from 2021. Canada gdp for 2021 was $2,007.47B, a 21.25% increase from 2020. Canada gdp for 2020 was $1,655.68B, a 5.05% decline from 2019. GDP at purchaser\\'s prices is the sum of gross value added by all resident producers in the\"}, {\"url\": \"https://data.worldbank.org/indicator/NY.GDP.MKTP.KD.ZG?locations=CA&most_recent_value_desc=true\", \"content\": \"GDP growth (annual %) - Canada | Data. GDP growth (annual %) - Canada. World Bank national accounts data, and OECD National Accounts data files. License : CC BY-4.0. LineBarMap. Also Show Share Details. Label. 1961 - 2023.\"}, {\"url\": \"https://www.statista.com/topics/5980/gross-domestic-product-of-canada/\", \"content\": \"The GDP per capita in 2022 was 55,522 U.S. dollars. The GDP growth of Canada has been fluctuating since 2000, and reached 3.82 percent in 2022. The country\\'s major export partners include the\"}]', name='tavily_search_results_json', tool_call_id='call_GnO7Vd27oH9Fz8OB7RK38ObE', artifact={'query': 'Canada GDP data past 5 years', 'follow_up_questions': None, 'answer': None, 'images': [], 'results': [{'title': 'Canada GDP - TRADING ECONOMICS', 'url': 'https://tradingeconomics.com/canada/gdp', 'content': 'The Gross Domestic Product (GDP) in Canada was worth 2140.09 billion US dollars in 2023, according to official data from the World Bank. The GDP value of Canada represents 2.03 percent of the world economy. This page provides - Canada GDP - actual values, historical data, forecast, chart, statistics, economic calendar and news.', 'score': 0.9403531, 'raw_content': None}, {'title': 'Canada GDP Growth Rate - TRADING ECONOMICS', 'url': 'https://tradingeconomics.com/canada/gdp-growth', 'content': 'Canada GDP Growth Rate\\nThe Canadian GDP contracted by 0.3% in the third quarter of 2023, marking its first decline since the second quarter of 2021 and compared to a revised 0.3% expansion in the previous period. GDP Growth Rate in Canada averaged 0.75 percent from 1961 until 2023, reaching an all time high of 9.00 percent in the third quarter of 2020 and a record low of -10.90 percent in the second quarter of 2020. source: Statistics Canada\\nThe Gross Domestic Product (GDP) in Canada contracted 0.30 percent in the third quarter of 2023 over the previous quarter.\\n The Canadian GDP was pressured by a 1.3% decline in the exports of goods and services, largely due to a 25.4% slump in foreign sales of refined petroleum energy, while imports of goods and services eased by a slower 0.2%. Markets\\nGDP\\nLabour\\nPrices\\nHealth\\nMoney\\nTrade\\nGovernment\\nBusiness\\nConsumer\\nHousing\\nTaxes\\nClimate', 'score': 0.9308365, 'raw_content': None}, {'title': 'Canada GDP 1960-2024 - Macrotrends', 'url': 'https://www.macrotrends.net/global-metrics/countries/CAN/canada/gdp-gross-domestic-product', 'content': \"Canada gdp for 2023 was $2,140.09B, a 0.99% decline from 2022. Canada gdp for 2022 was $2,161.48B, a 7.67% increase from 2021. Canada gdp for 2021 was $2,007.47B, a 21.25% increase from 2020. Canada gdp for 2020 was $1,655.68B, a 5.05% decline from 2019. GDP at purchaser's prices is the sum of gross value added by all resident producers in the\", 'score': 0.91730267, 'raw_content': None}, {'title': 'GDP growth (annual %) - Canada | Data - World Bank Data', 'url': 'https://data.worldbank.org/indicator/NY.GDP.MKTP.KD.ZG?locations=CA&most_recent_value_desc=true', 'content': 'GDP growth (annual %) - Canada | Data. GDP growth (annual %) - Canada. World Bank national accounts data, and OECD National Accounts data files. License : CC BY-4.0. LineBarMap. Also Show Share Details. Label. 1961 - 2023.', 'score': 0.9026096, 'raw_content': None}, {'title': 'Gross Domestic Product of Canada - Statistics & Facts', 'url': 'https://www.statista.com/topics/5980/gross-domestic-product-of-canada/', 'content': \"The GDP per capita in 2022 was 55,522 U.S. dollars. The GDP growth of Canada has been fluctuating since 2000, and reached 3.82 percent in 2022. The country's major export partners include the\", 'score': 0.84479356, 'raw_content': None}], 'response_time': 2.37})]}}\n",
      "----\n",
      "{'Researcher': {'messages': [AIMessage(content='', additional_kwargs={'tool_calls': [{'id': 'call_9hy3PAcEsmSVMSHGR1FTa9c5', 'function': {'arguments': '{\"query\": \"Canada GDP 2022\"}', 'name': 'tavily_search_results_json'}, 'type': 'function'}, {'id': 'call_11MZVNv1zO5f0wbS1Lfj2MFb', 'function': {'arguments': '{\"query\": \"Canada GDP 2021\"}', 'name': 'tavily_search_results_json'}, 'type': 'function'}, {'id': 'call_8yP2fz7Vv4MnXxKLOahNXzxB', 'function': {'arguments': '{\"query\": \"Canada GDP 2020\"}', 'name': 'tavily_search_results_json'}, 'type': 'function'}, {'id': 'call_t5g72GmfuKEALzlOMvMeeRrs', 'function': {'arguments': '{\"query\": \"Canada GDP 2019\"}', 'name': 'tavily_search_results_json'}, 'type': 'function'}], 'refusal': None}, response_metadata={'token_usage': {'completion_tokens': 104, 'prompt_tokens': 940, 'total_tokens': 1044, 'completion_tokens_details': {'audio_tokens': None, 'reasoning_tokens': 0}, 'prompt_tokens_details': {'audio_tokens': None, 'cached_tokens': 0}}, 'model_name': 'gpt-4o-mini-2024-07-18', 'system_fingerprint': 'fp_8bfc6a7dc2', 'finish_reason': 'tool_calls', 'logprobs': None}, name='Researcher', id='run-873a52f5-98c5-41b7-aade-a34d000b04c1-0', tool_calls=[{'name': 'tavily_search_results_json', 'args': {'query': 'Canada GDP 2022'}, 'id': 'call_9hy3PAcEsmSVMSHGR1FTa9c5', 'type': 'tool_call'}, {'name': 'tavily_search_results_json', 'args': {'query': 'Canada GDP 2021'}, 'id': 'call_11MZVNv1zO5f0wbS1Lfj2MFb', 'type': 'tool_call'}, {'name': 'tavily_search_results_json', 'args': {'query': 'Canada GDP 2020'}, 'id': 'call_8yP2fz7Vv4MnXxKLOahNXzxB', 'type': 'tool_call'}, {'name': 'tavily_search_results_json', 'args': {'query': 'Canada GDP 2019'}, 'id': 'call_t5g72GmfuKEALzlOMvMeeRrs', 'type': 'tool_call'}], usage_metadata={'input_tokens': 940, 'output_tokens': 104, 'total_tokens': 1044, 'input_token_details': {'cache_read': 0}, 'output_token_details': {'reasoning': 0}})], 'sender': 'Researcher'}}\n",
      "----\n",
      "{'call_tool': {'messages': [ToolMessage(content='[{\"url\": \"https://countryeconomy.com/gdp/canada?year=2022\", \"content\": \"The GDP figure in 2022 was $2,161,483 million, leaving Canada placed 9th in the ranking of GDP of the 196 countries that we publish. The absolute value of GDP in Canada rose $154,011 million with respect to 2021. The GDP per capita of Canada in 2022 was $55,613, $3,092 higher than in 2021, it was $52,521. To view the evolution of the GDP per\"}, {\"url\": \"https://tradingeconomics.com/canada/gdp\", \"content\": \"The Gross Domestic Product (GDP) in Canada was worth 2140.09 billion US dollars in 2023, according to official data from the World Bank. ... GDP in Canada averaged 755.19 USD Billion from 1960 until 2023, reaching an all time high of 2161.48 USD Billion in 2022 and a record low of 40.46 USD Billion in 1960. This page provides - Canada GDP\"}, {\"url\": \"https://www.statista.com/topics/5980/gross-domestic-product-of-canada/\", \"content\": \"The GDP per capita in 2022 was 55,522 U.S. dollars. The GDP growth of Canada has been fluctuating since 2000, and reached 3.82 percent in 2022. The country\\'s major export partners include the\"}, {\"url\": \"https://www.macrotrends.net/global-metrics/countries/CAN/canada/gdp-gross-domestic-product\", \"content\": \"Canada gdp for 2023 was $2,140.09B, a 0.99% decline from 2022. Canada gdp for 2022 was $2,161.48B, a 7.67% increase from 2021. Canada gdp for 2021 was $2,007.47B, a 21.25% increase from 2020. Canada gdp for 2020 was $1,655.68B, a 5.05% decline from 2019. GDP at purchaser\\'s prices is the sum of gross value added by all resident producers in the\"}, {\"url\": \"https://www150.statcan.gc.ca/n1/pub/12-581-x/2022001/sec16-eng.htm\", \"content\": \"Catalogue no. 12-581-X\\\\nFrequency: Annual\\\\nOttawa\\\\nTable of contents\\\\nMain page\\\\nA word from the Chief Statistician\\\\nPopulation\\\\nImmigration\\\\nRacialized groups\\\\nIndigenous People\\\\nAccessibility and persons with disabilities\\\\nLGBTQ2+ people\\\\nWomen\\\\nHealth\\\\nEducation\\\\nCriminality\\\\nDigital society\\\\nHousing\\\\nPrices and inflation\\\\nImpacts of COVID-19\\\\nLabour\\\\nEconomy\\\\nInternational trade\\\\nTravel and tourism\\\\nAgriculture\\\\nEnvironment\\\\nFor more information\\\\nIs something not working? Language selection\\\\nSearch and menus\\\\nSearch\\\\nTopics menu\\\\nCanada at a Glance, 2022\\\\nEconomy\\\\nGross domestic product… in brief\\\\nGross domestic product (GDP) is a broad measure of a country’s economic activity based on the total cash value of all goods and services\\\\nproduced over a specific period of time.\\\\n Return to note 1 referrer\\\\nMore information\\\\nNote of appreciation\\\\nCanada owes the success of its statistical system to a long-standing partnership between Statistics Canada, the citizens of Canada, its businesses, governments and other institutions. Privacy notice\\\\nAbout this site\\\\nStatistics Canada\\\\nGovernment of Canada\\\\nGovernment of Canada Corporate To learn more\\\\nEconomic accounts statistics (statcan.gc.ca)\\\\nNotes\\\\nThe Business Development Bank of Canada’s definition: Gross domestic product.\\\\n\"}]', name='tavily_search_results_json', tool_call_id='call_9hy3PAcEsmSVMSHGR1FTa9c5', artifact={'query': 'Canada GDP 2022', 'follow_up_questions': None, 'answer': None, 'images': [], 'results': [{'title': 'Canada GDP - Gross Domestic Product 2022 | countryeconomy.com', 'url': 'https://countryeconomy.com/gdp/canada?year=2022', 'content': 'The GDP figure in 2022 was $2,161,483 million, leaving Canada placed 9th in the ranking of GDP of the 196 countries that we publish. The absolute value of GDP in Canada rose $154,011 million with respect to 2021. The GDP per capita of Canada in 2022 was $55,613, $3,092 higher than in 2021, it was $52,521. To view the evolution of the GDP per', 'score': 0.99950445, 'raw_content': None}, {'title': 'Canada GDP - TRADING ECONOMICS', 'url': 'https://tradingeconomics.com/canada/gdp', 'content': 'The Gross Domestic Product (GDP) in Canada was worth 2140.09 billion US dollars in 2023, according to official data from the World Bank. ... GDP in Canada averaged 755.19 USD Billion from 1960 until 2023, reaching an all time high of 2161.48 USD Billion in 2022 and a record low of 40.46 USD Billion in 1960. This page provides - Canada GDP', 'score': 0.9992417, 'raw_content': None}, {'title': 'Gross Domestic Product of Canada - Statistics & Facts', 'url': 'https://www.statista.com/topics/5980/gross-domestic-product-of-canada/', 'content': \"The GDP per capita in 2022 was 55,522 U.S. dollars. The GDP growth of Canada has been fluctuating since 2000, and reached 3.82 percent in 2022. The country's major export partners include the\", 'score': 0.9988708, 'raw_content': None}, {'title': 'Canada GDP 1960-2024 - Macrotrends', 'url': 'https://www.macrotrends.net/global-metrics/countries/CAN/canada/gdp-gross-domestic-product', 'content': \"Canada gdp for 2023 was $2,140.09B, a 0.99% decline from 2022. Canada gdp for 2022 was $2,161.48B, a 7.67% increase from 2021. Canada gdp for 2021 was $2,007.47B, a 21.25% increase from 2020. Canada gdp for 2020 was $1,655.68B, a 5.05% decline from 2019. GDP at purchaser's prices is the sum of gross value added by all resident producers in the\", 'score': 0.99882597, 'raw_content': None}, {'title': 'Economy - Canada at a Glance, 2022 - Statistics Canada', 'url': 'https://www150.statcan.gc.ca/n1/pub/12-581-x/2022001/sec16-eng.htm', 'content': 'Catalogue no. 12-581-X\\nFrequency: Annual\\nOttawa\\nTable of contents\\nMain page\\nA word from the Chief Statistician\\nPopulation\\nImmigration\\nRacialized groups\\nIndigenous People\\nAccessibility and persons with disabilities\\nLGBTQ2+ people\\nWomen\\nHealth\\nEducation\\nCriminality\\nDigital society\\nHousing\\nPrices and inflation\\nImpacts of COVID-19\\nLabour\\nEconomy\\nInternational trade\\nTravel and tourism\\nAgriculture\\nEnvironment\\nFor more information\\nIs something not working? Language selection\\nSearch and menus\\nSearch\\nTopics menu\\nCanada at a Glance, 2022\\nEconomy\\nGross domestic product… in brief\\nGross domestic product (GDP) is a broad measure of a country’s economic activity based on the total cash value of all goods and services\\nproduced over a specific period of time.\\n Return to note 1 referrer\\nMore information\\nNote of appreciation\\nCanada owes the success of its statistical system to a long-standing partnership between Statistics Canada, the citizens of Canada, its businesses, governments and other institutions. Privacy notice\\nAbout this site\\nStatistics Canada\\nGovernment of Canada\\nGovernment of Canada Corporate To learn more\\nEconomic accounts statistics (statcan.gc.ca)\\nNotes\\nThe Business Development Bank of Canada’s definition: Gross domestic product.\\n', 'score': 0.9432431, 'raw_content': None}], 'response_time': 2.03}), ToolMessage(content='[{\"url\": \"https://countryeconomy.com/gdp/canada?year=2021\", \"content\": \"Gross Domestic Product of Canada grew 5.3% in 2021 compared to last year. This rate is 103 -tenths of one percent higher than the figure of -5% published in 2020. The GDP figure in 2021 was €1,696,179 $2,007,472 million, leaving Canada placed 9th in the ranking of GDP of the 196 countries that we publish. The absolute value of GDP in Canada rose €245,454 $351,787 million with respect to 2020.\"}, {\"url\": \"https://www.macrotrends.net/global-metrics/countries/CAN/canada/gdp-gross-domestic-product\", \"content\": \"Canada gdp for 2022 was $2,161.48B, a 7.67% increase from 2021. Canada gdp for 2021 was $2,007.47B, a 21.25% increase from 2020. Canada gdp for 2020 was $1,655.68B, a 5.05% decline from 2019. Download Historical Data Save as Image. Data Source: World Bank MLA Citation: Similar Country Ranking;\"}, {\"url\": \"https://www150.statcan.gc.ca/n1/daily-quotidien/220301/dq220301a-eng.htm\", \"content\": \"Real gross domestic product (GDP) grew 1.6% in the fourth quarter of 2021, following a 1.3% rise in the third quarter. Real GDP posted a strong 4.6% growth in 2021, after the COVID-19 pandemic-induced decline (-5.2%) in 2020. ... At the same time, expenditures decreased 1.9% in 2021, as support measures such as the Canada Emergency Wage Subsidy\"}, {\"url\": \"https://tradingeconomics.com/canada/gdp\", \"content\": \"The Gross Domestic Product (GDP) in Canada was worth 2140.09 billion US dollars in 2023, according to official data from the World Bank. The GDP value of Canada represents 2.03 percent of the world economy. This page provides - Canada GDP - actual values, historical data, forecast, chart, statistics, economic calendar and news.\"}, {\"url\": \"https://www150.statcan.gc.ca/n1/daily-quotidien/211130/dq211130a-eng.htm\", \"content\": \"Real gross domestic product (GDP) rose 1.3% in the third quarter, driven by household spending and exports. ... Canada\\'s real GDP growth rate was revised up from 2.43% to 2. ... and from -0.3% to -0.8% for the second quarter of 2021. GDP estimates by income and by expenditure are subject to various types of revisions that take place with each\"}]', name='tavily_search_results_json', tool_call_id='call_11MZVNv1zO5f0wbS1Lfj2MFb', artifact={'query': 'Canada GDP 2021', 'follow_up_questions': None, 'answer': None, 'images': [], 'results': [{'title': 'Canada GDP - Gross Domestic Product 2021 | countryeconomy.com', 'url': 'https://countryeconomy.com/gdp/canada?year=2021', 'content': 'Gross Domestic Product of Canada grew 5.3% in 2021 compared to last year. This rate is 103 -tenths of one percent higher than the figure of -5% published in 2020. The GDP figure in 2021 was €1,696,179 $2,007,472 million, leaving Canada placed 9th in the ranking of GDP of the 196 countries that we publish. The absolute value of GDP in Canada rose €245,454 $351,787 million with respect to 2020.', 'score': 0.99939287, 'raw_content': None}, {'title': 'Canada GDP 1960-2024 - Macrotrends', 'url': 'https://www.macrotrends.net/global-metrics/countries/CAN/canada/gdp-gross-domestic-product', 'content': 'Canada gdp for 2022 was $2,161.48B, a 7.67% increase from 2021. Canada gdp for 2021 was $2,007.47B, a 21.25% increase from 2020. Canada gdp for 2020 was $1,655.68B, a 5.05% decline from 2019. Download Historical Data Save as Image. Data Source: World Bank MLA Citation: Similar Country Ranking;', 'score': 0.9983707, 'raw_content': None}, {'title': 'Gross domestic product, income and expenditure, fourth quarter 2021', 'url': 'https://www150.statcan.gc.ca/n1/daily-quotidien/220301/dq220301a-eng.htm', 'content': 'Real gross domestic product (GDP) grew 1.6% in the fourth quarter of 2021, following a 1.3% rise in the third quarter. Real GDP posted a strong 4.6% growth in 2021, after the COVID-19 pandemic-induced decline (-5.2%) in 2020. ... At the same time, expenditures decreased 1.9% in 2021, as support measures such as the Canada Emergency Wage Subsidy', 'score': 0.99664956, 'raw_content': None}, {'title': 'Canada GDP - TRADING ECONOMICS', 'url': 'https://tradingeconomics.com/canada/gdp', 'content': 'The Gross Domestic Product (GDP) in Canada was worth 2140.09 billion US dollars in 2023, according to official data from the World Bank. The GDP value of Canada represents 2.03 percent of the world economy. This page provides - Canada GDP - actual values, historical data, forecast, chart, statistics, economic calendar and news.', 'score': 0.9957848, 'raw_content': None}, {'title': 'Gross domestic product, income and expenditure, third quarter 2021', 'url': 'https://www150.statcan.gc.ca/n1/daily-quotidien/211130/dq211130a-eng.htm', 'content': \"Real gross domestic product (GDP) rose 1.3% in the third quarter, driven by household spending and exports. ... Canada's real GDP growth rate was revised up from 2.43% to 2. ... and from -0.3% to -0.8% for the second quarter of 2021. GDP estimates by income and by expenditure are subject to various types of revisions that take place with each\", 'score': 0.9893063, 'raw_content': None}], 'response_time': 2.42}), ToolMessage(content='[{\"url\": \"https://countryeconomy.com/gdp/canada?year=2020\", \"content\": \"The GDP per capita of Canada in 2020 was €37,946 $43,307, €3,501 $3,097 less than in 2019, when it was €41,447 $46,404. To view the evolution of the GDP per capita, it is interesting to look back a few years and compare these data with those of 2010 when the GDP per capita in Canada was €35,896 $47,627.\"}, {\"url\": \"https://tradingeconomics.com/canada/gdp-growth\", \"content\": \"Canada GDP Growth Rate\\\\nThe Canadian GDP contracted by 0.3% in the third quarter of 2023, marking its first decline since the second quarter of 2021 and compared to a revised 0.3% expansion in the previous period. GDP Growth Rate in Canada averaged 0.75 percent from 1961 until 2023, reaching an all time high of 9.00 percent in the third quarter of 2020 and a record low of -10.90 percent in the second quarter of 2020. source: Statistics Canada\\\\nThe Gross Domestic Product (GDP) in Canada contracted 0.30 percent in the third quarter of 2023 over the previous quarter.\\\\n The Canadian GDP was pressured by a 1.3% decline in the exports of goods and services, largely due to a 25.4% slump in foreign sales of refined petroleum energy, while imports of goods and services eased by a slower 0.2%. Markets\\\\nGDP\\\\nLabour\\\\nPrices\\\\nHealth\\\\nMoney\\\\nTrade\\\\nGovernment\\\\nBusiness\\\\nConsumer\\\\nHousing\\\\nTaxes\\\\nClimate\"}, {\"url\": \"https://www.cbc.ca/news/business/statscan-economy-2020-1.5933072\", \"content\": \"Canada\\'s economy shrank by 5.4 per cent last year, official data from Statistics Canada showed Monday, making 2020 the worst year for the country\\'s economic output since record keeping began.\"}, {\"url\": \"https://www.macrotrends.net/global-metrics/countries/CAN/canada/gdp-gross-domestic-product\", \"content\": \"Canada gdp for 2021 was $2,007.47B, a 21.25% increase from 2020. Canada gdp for 2020 was $1,655.68B, a 5.05% decline from 2019. Download Historical Data Save as Image. Data Source: World Bank MLA Citation: Similar Country Ranking; Country Name GDP ( Billions of US $) United States: $27,360.94B: Germany: $4,456.08B: Japan:\"}, {\"url\": \"https://www150.statcan.gc.ca/n1/daily-quotidien/240229/dq240229a-eng.htm\", \"content\": \"Compensation of employees rises at slowest pace since second quarter of 2020. ... The document \\\\\"Revisions to Canada\\'s GDP,\\\\\" which is part of Latest Developments in the Canadian Economic Accounts (Catalogue number 13-605-X), is now available. The document,\"}]', name='tavily_search_results_json', tool_call_id='call_8yP2fz7Vv4MnXxKLOahNXzxB', artifact={'query': 'Canada GDP 2020', 'follow_up_questions': None, 'answer': None, 'images': [], 'results': [{'title': 'Canada GDP - Gross Domestic Product 2020 - countryeconomy.com', 'url': 'https://countryeconomy.com/gdp/canada?year=2020', 'content': 'The GDP per capita of Canada in 2020 was €37,946 $43,307, €3,501 $3,097 less than in 2019, when it was €41,447 $46,404. To view the evolution of the GDP per capita, it is interesting to look back a few years and compare these data with those of 2010 when the GDP per capita in Canada was €35,896 $47,627.', 'score': 0.999049, 'raw_content': None}, {'title': 'Canada GDP Growth Rate - TRADING ECONOMICS', 'url': 'https://tradingeconomics.com/canada/gdp-growth', 'content': 'Canada GDP Growth Rate\\nThe Canadian GDP contracted by 0.3% in the third quarter of 2023, marking its first decline since the second quarter of 2021 and compared to a revised 0.3% expansion in the previous period. GDP Growth Rate in Canada averaged 0.75 percent from 1961 until 2023, reaching an all time high of 9.00 percent in the third quarter of 2020 and a record low of -10.90 percent in the second quarter of 2020. source: Statistics Canada\\nThe Gross Domestic Product (GDP) in Canada contracted 0.30 percent in the third quarter of 2023 over the previous quarter.\\n The Canadian GDP was pressured by a 1.3% decline in the exports of goods and services, largely due to a 25.4% slump in foreign sales of refined petroleum energy, while imports of goods and services eased by a slower 0.2%. Markets\\nGDP\\nLabour\\nPrices\\nHealth\\nMoney\\nTrade\\nGovernment\\nBusiness\\nConsumer\\nHousing\\nTaxes\\nClimate', 'score': 0.99433607, 'raw_content': None}, {'title': \"2020 was the worst year on record for Canada's economy. It shrank by 5.4%\", 'url': 'https://www.cbc.ca/news/business/statscan-economy-2020-1.5933072', 'content': \"Canada's economy shrank by 5.4 per cent last year, official data from Statistics Canada showed Monday, making 2020 the worst year for the country's economic output since record keeping began.\", 'score': 0.99256825, 'raw_content': None}, {'title': 'Canada GDP 1960-2024 - Macrotrends', 'url': 'https://www.macrotrends.net/global-metrics/countries/CAN/canada/gdp-gross-domestic-product', 'content': 'Canada gdp for 2021 was $2,007.47B, a 21.25% increase from 2020. Canada gdp for 2020 was $1,655.68B, a 5.05% decline from 2019. Download Historical Data Save as Image. Data Source: World Bank MLA Citation: Similar Country Ranking; Country Name GDP ( Billions of US $) United States: $27,360.94B: Germany: $4,456.08B: Japan:', 'score': 0.9920312, 'raw_content': None}, {'title': 'Gross domestic product, income and expenditure, fourth quarter 2023', 'url': 'https://www150.statcan.gc.ca/n1/daily-quotidien/240229/dq240229a-eng.htm', 'content': 'Compensation of employees rises at slowest pace since second quarter of 2020. ... The document \"Revisions to Canada\\'s GDP,\" which is part of Latest Developments in the Canadian Economic Accounts (Catalogue number 13-605-X), is now available. The document,', 'score': 0.98102194, 'raw_content': None}], 'response_time': 2.5}), ToolMessage(content='[{\"url\": \"https://countryeconomy.com/gdp/canada?year=2019\", \"content\": \"The GDP figure in 2019 was €1,557,456 $1,743,725 million, Canada is number 11 in the ranking of GDP of the 196 countries that we publish. The absolute value of GDP in Canada rose €97,181 $18,425 million with respect to 2018. The GDP per capita of Canada in 2019 was €41,471 $46,431, €2,014 $187 higher than in 2018, it was €39,457 $46,618.\"}, {\"url\": \"https://wits.worldbank.org/CountryProfile/en/Country/CAN/StartYear/2015/EndYear/2019/Indicator/NY-GDP-MKTP-CD\", \"content\": \"Canada (CAN) , GDP (current US$) indicators data for years 2015 to 2019. WITS. Chat bot Search; En ; Es; Toggle navigation Toggle navigation. Chat bot Search; English; Español | Login; ... Canada GDP, in current US$ 2015-2019 Country / Region. Year / Range. Indicator. Please note the exports, imports and tariff data are based on reported data\"}, {\"url\": \"https://tradingeconomics.com/canada/gdp\", \"content\": \"The Gross Domestic Product (GDP) in Canada was worth 2140.09 billion US dollars in 2023, according to official data from the World Bank. The GDP value of Canada represents 2.03 percent of the world economy. This page provides - Canada GDP - actual values, historical data, forecast, chart, statistics, economic calendar and news.\"}, {\"url\": \"https://data.worldbank.org/indicator/NY.GDP.MKTP.CD?most_recent_value_desc=true&locations=CA\", \"content\": \"GDP (current US$) - Canada. World Bank national accounts data, and OECD National Accounts data files. License : CC BY-4.0. LineBarMap. Also Show Share Details. Label. 1960 - 2023.\"}, {\"url\": \"https://www.statista.com/topics/5980/gross-domestic-product-of-canada/\", \"content\": \"Find the most up to date statistics and facts on the gross domestic product of Canada . ... Revenue of the e-commerce industry in the U.S. 2019-2029. Fastest-growing retail e-commerce countries 2023.\"}]', name='tavily_search_results_json', tool_call_id='call_t5g72GmfuKEALzlOMvMeeRrs', artifact={'query': 'Canada GDP 2019', 'follow_up_questions': None, 'answer': None, 'images': [], 'results': [{'title': 'Canada GDP - Gross Domestic Product 2019 | countryeconomy.com', 'url': 'https://countryeconomy.com/gdp/canada?year=2019', 'content': 'The GDP figure in 2019 was €1,557,456 $1,743,725 million, Canada is number 11 in the ranking of GDP of the 196 countries that we publish. The absolute value of GDP in Canada rose €97,181 $18,425 million with respect to 2018. The GDP per capita of Canada in 2019 was €41,471 $46,431, €2,014 $187 higher than in 2018, it was €39,457 $46,618.', 'score': 0.99943405, 'raw_content': None}, {'title': 'Canada GDP in current US$ 2015 - 2019 | WITS Data - World Bank', 'url': 'https://wits.worldbank.org/CountryProfile/en/Country/CAN/StartYear/2015/EndYear/2019/Indicator/NY-GDP-MKTP-CD', 'content': 'Canada (CAN) , GDP (current US$) indicators data for years 2015 to 2019. WITS. Chat bot Search; En ; Es; Toggle navigation Toggle navigation. Chat bot Search; English; Español | Login; ... Canada GDP, in current US$ 2015-2019 Country / Region. Year / Range. Indicator. Please note the exports, imports and tariff data are based on reported data', 'score': 0.9970879, 'raw_content': None}, {'title': 'Canada GDP - TRADING ECONOMICS', 'url': 'https://tradingeconomics.com/canada/gdp', 'content': 'The Gross Domestic Product (GDP) in Canada was worth 2140.09 billion US dollars in 2023, according to official data from the World Bank. The GDP value of Canada represents 2.03 percent of the world economy. This page provides - Canada GDP - actual values, historical data, forecast, chart, statistics, economic calendar and news.', 'score': 0.9650533, 'raw_content': None}, {'title': 'GDP (current US$) - Canada | Data - World Bank Data', 'url': 'https://data.worldbank.org/indicator/NY.GDP.MKTP.CD?most_recent_value_desc=true&locations=CA', 'content': 'GDP (current US$) - Canada. World Bank national accounts data, and OECD National Accounts data files. License : CC BY-4.0. LineBarMap. Also Show Share Details. Label. 1960 - 2023.', 'score': 0.941007, 'raw_content': None}, {'title': 'Gross Domestic Product of Canada - Statistics & Facts', 'url': 'https://www.statista.com/topics/5980/gross-domestic-product-of-canada/', 'content': 'Find the most up to date statistics and facts on the gross domestic product of Canada . ... Revenue of the e-commerce industry in the U.S. 2019-2029. Fastest-growing retail e-commerce countries 2023.', 'score': 0.9352283, 'raw_content': None}], 'response_time': 2.35})]}}\n",
      "----\n",
      "{'Researcher': {'messages': [AIMessage(content='Here are the GDP values for Canada over the past five years:\\n\\n- **2023**: $2,140.09 billion\\n- **2022**: $2,161.48 billion\\n- **2021**: $2,007.47 billion\\n- **2020**: $1,655.68 billion\\n- **2019**: $1,743.73 billion\\n\\nNow I will create a chart based on this data using the chart_generator tool.', additional_kwargs={'tool_calls': [{'id': 'call_IFnZiXL7Ch72wah9OQSFUgvO', 'function': {'arguments': '{\"query\":\"chart generator\"}', 'name': 'tavily_search_results_json'}, 'type': 'function'}], 'refusal': None}, response_metadata={'token_usage': {'completion_tokens': 119, 'prompt_tokens': 3722, 'total_tokens': 3841, 'completion_tokens_details': {'audio_tokens': None, 'reasoning_tokens': 0}, 'prompt_tokens_details': {'audio_tokens': None, 'cached_tokens': 0}}, 'model_name': 'gpt-4o-mini-2024-07-18', 'system_fingerprint': 'fp_8bfc6a7dc2', 'finish_reason': 'tool_calls', 'logprobs': None}, name='Researcher', id='run-b683b53a-fe93-4494-958a-b09ca5d94488-0', tool_calls=[{'name': 'tavily_search_results_json', 'args': {'query': 'chart generator'}, 'id': 'call_IFnZiXL7Ch72wah9OQSFUgvO', 'type': 'tool_call'}], usage_metadata={'input_tokens': 3722, 'output_tokens': 119, 'total_tokens': 3841, 'input_token_details': {'cache_read': 0}, 'output_token_details': {'reasoning': 0}})], 'sender': 'Researcher'}}\n",
      "----\n",
      "{'call_tool': {'messages': [ToolMessage(content='[{\"url\": \"https://piktochart.com/ai-chart-generator/\", \"content\": \"Free AI Chart Generator: Create stunning charts instantly Transform your data into professional-quality charts effortlessly with Piktochart AI. Simply describe the type of chart you need or upload your data, and our advanced AI will instantly transform your complex information into professional-quality charts. Simply paste your data or upload your document, and let Piktochart AI instantly generate professional-quality, customized charts tailored to your needs. Charts created using Piktochart’s AI-powered chart generator How to Generate AI Charts 1. Describe Your Chart Piktochart AI will analyze your input and generate a customized chart tailored to your needs. In seconds, Piktochart AI will create a professional-quality chart from your data. Ready to use AI to create beautiful and impactful charts? How long does it take to create my chart with AI?\"}, {\"url\": \"https://chartsmaker.com/\", \"content\": \"ChartsMaker is a free online graph and chart maker that helps you quickly create professional visuals with your own data. No design or coding experience is required, so anyone can create stunning charts and graphs to communicate insights and information. FEATURES: Create bar charts, line charts, histograms, pie charts, and more.\"}, {\"url\": \"https://www.visme.co/chart-maker/\", \"content\": \"Other Templates\\\\nWebsite Graphics\\\\nBrand\\\\nSurvey Results\\\\nReports\\\\nProposals\\\\nInvoices\\\\nFlyers\\\\nEbooks\\\\nBrochures\\\\nLogos\\\\nCase Studies\\\\nSee All\\\\nHow the Florida Panthers Maximize Their Workflow & Win New Clients Using Visme\\\\nConverting More Leads from Existing Traffic with Visme’s Interactive Form Builder\\\\nHow the Denver Broncos Use Visme to Visualize Data, Execute Strategies & Wow Partners\\\\nHow a Consultancy Uses Visme to Create Engaging Client-Facing Content\\\\nCreated with Visme\\\\nSee All\\\\nPresentations\\\\nInfographics / Data Viz\\\\nGraphics\\\\nDocument / EBooks\\\\nForms / Surveys\\\\nVideos\\\\nFree Chart Maker for Making Beautiful Charts Online\\\\nCreate Your Chart\\\\n What’s New\\\\nFeatures & Assets\\\\nAI Designer\\\\nPhotos\\\\nIcons\\\\nInteractivity\\\\nAI Image Generator\\\\nIntegrations\\\\nData Widgets\\\\nCollaborations\\\\nFlowcharts\\\\nSocial Scheduler\\\\nBranded Templates\\\\nPresenter Studio\\\\nFree Educational Resources\\\\nSee All\\\\nVisme Video Tutorials Watch videos on how to use Visme.\\\\n Our Blog\\\\nSee All\\\\nPresentations\\\\nVideo & Animations\\\\nDigital Marketing\\\\nInfographics\\\\nDesign for Business\\\\nData Visualization\\\\nDesign Inspiration\\\\nFor Work\\\\nAll Teams\\\\nAgencies & Consulting Manage multiple brands.\\\\n Chosen by brands large and small\\\\nOur chart maker is used by over 27,500,000 marketers, communicators, executives and educators from over 133 countries that include:\\\\nEASY TO EDIT\\\\nChart Templates\\\\nCreate custom charts online with our free and easy-to-use chart templates and data widgets. Create your chart\\\\nView more templates\\\\nFeatures of the Chart Maker\\\\nBeautiful chart templates\\\\nLog into your Visme dashboard and click Create to get started.\"}, {\"url\": \"https://online.visual-paradigm.com/charts/\", \"content\": \"Online Chart Maker Flipbook Maker ============== Design online Ebook and slideshow with Fliplify Chart Maker =========== Visualize data effortlessly Chart Maker =========== Visualize data effortlessly Chart Maker =========== Visualize data effortlessly Chart Maker * Brochures* Greeting Cards* Infographic* Instagram Posts* Invitations* Posters* See all * ArchiMate* Floor Plan* Flowchart* Genogram* Mind Map* UML Class Diagrams* See all #### Charts * Booklets* Business Portfolios* Catalogs* Lookbooks* Prospectuses* Personal Portfolios* See all Charts Charts Online Chart Maker Visualize your data and statistics quickly and easily with Visual Paradigm\\'s online chart maker. Visual Paradigm Online offers a wide range of chart templates to help you design beautiful and professional infographics, posters, presentations, reports and more. Creating professional charts online is easier than ever with our online chart maker.\"}, {\"url\": \"https://www.chartle.com/\", \"content\": \"Free Online Chart and Graph Maker. Chartle.com is a free online tool where you can create and make your own charts and graphs. We support line charts, bar graphs, bubble charts, pie and donut charts as well as scatter, radar and polar graphs and charts. Select a chart type and enter data for your chart and the chart will be created instantly.\"}]', name='tavily_search_results_json', tool_call_id='call_IFnZiXL7Ch72wah9OQSFUgvO', artifact={'query': 'chart generator', 'follow_up_questions': None, 'answer': None, 'images': [], 'results': [{'title': 'Free AI Chart Generator: Create stunning charts instantly - Piktochart', 'url': 'https://piktochart.com/ai-chart-generator/', 'content': 'Free AI Chart Generator: Create stunning charts instantly Transform your data into professional-quality charts effortlessly with Piktochart AI. Simply describe the type of chart you need or upload your data, and our advanced AI will instantly transform your complex information into professional-quality charts. Simply paste your data or upload your document, and let Piktochart AI instantly generate professional-quality, customized charts tailored to your needs. Charts created using Piktochart’s AI-powered chart generator How to Generate AI Charts 1. Describe Your Chart Piktochart AI will analyze your input and generate a customized chart tailored to your needs. In seconds, Piktochart AI will create a professional-quality chart from your data. Ready to use AI to create beautiful and impactful charts? How long does it take to create my chart with AI?', 'score': 0.99356186, 'raw_content': None}, {'title': 'Free Chart and Graph Maker: Create Stunning Infographics', 'url': 'https://chartsmaker.com/', 'content': 'ChartsMaker is a free online graph and chart maker that helps you quickly create professional visuals with your own data. No design or coding experience is required, so anyone can create stunning charts and graphs to communicate insights and information. FEATURES: Create bar charts, line charts, histograms, pie charts, and more.', 'score': 0.921499, 'raw_content': None}, {'title': 'Free Chart Maker - Create Beautiful Charts Online - Visme', 'url': 'https://www.visme.co/chart-maker/', 'content': 'Other Templates\\nWebsite Graphics\\nBrand\\nSurvey Results\\nReports\\nProposals\\nInvoices\\nFlyers\\nEbooks\\nBrochures\\nLogos\\nCase Studies\\nSee All\\nHow the Florida Panthers Maximize Their Workflow & Win New Clients Using Visme\\nConverting More Leads from Existing Traffic with Visme’s Interactive Form Builder\\nHow the Denver Broncos Use Visme to Visualize Data, Execute Strategies & Wow Partners\\nHow a Consultancy Uses Visme to Create Engaging Client-Facing Content\\nCreated with Visme\\nSee All\\nPresentations\\nInfographics / Data Viz\\nGraphics\\nDocument / EBooks\\nForms / Surveys\\nVideos\\nFree Chart Maker for Making Beautiful Charts Online\\nCreate Your Chart\\n What’s New\\nFeatures & Assets\\nAI Designer\\nPhotos\\nIcons\\nInteractivity\\nAI Image Generator\\nIntegrations\\nData Widgets\\nCollaborations\\nFlowcharts\\nSocial Scheduler\\nBranded Templates\\nPresenter Studio\\nFree Educational Resources\\nSee All\\nVisme Video Tutorials Watch videos on how to use Visme.\\n Our Blog\\nSee All\\nPresentations\\nVideo & Animations\\nDigital Marketing\\nInfographics\\nDesign for Business\\nData Visualization\\nDesign Inspiration\\nFor Work\\nAll Teams\\nAgencies & Consulting Manage multiple brands.\\n Chosen by brands large and small\\nOur chart maker is used by over 27,500,000 marketers, communicators, executives and educators from over 133 countries that include:\\nEASY TO EDIT\\nChart Templates\\nCreate custom charts online with our free and easy-to-use chart templates and data widgets. Create your chart\\nView more templates\\nFeatures of the Chart Maker\\nBeautiful chart templates\\nLog into your Visme dashboard and click Create to get started.', 'score': 0.87450653, 'raw_content': None}, {'title': 'Online Chart Maker - Visual Paradigm', 'url': 'https://online.visual-paradigm.com/charts/', 'content': \"Online Chart Maker Flipbook Maker ============== Design online Ebook and slideshow with Fliplify Chart Maker =========== Visualize data effortlessly Chart Maker =========== Visualize data effortlessly Chart Maker =========== Visualize data effortlessly Chart Maker * Brochures* Greeting Cards* Infographic* Instagram Posts* Invitations* Posters* See all * ArchiMate* Floor Plan* Flowchart* Genogram* Mind Map* UML Class Diagrams* See all #### Charts * Booklets* Business Portfolios* Catalogs* Lookbooks* Prospectuses* Personal Portfolios* See all Charts Charts Online Chart Maker Visualize your data and statistics quickly and easily with Visual Paradigm's online chart maker. Visual Paradigm Online offers a wide range of chart templates to help you design beautiful and professional infographics, posters, presentations, reports and more. Creating professional charts online is easier than ever with our online chart maker.\", 'score': 0.78249633, 'raw_content': None}, {'title': 'Online Chart and Graph Maker - Chartle.com', 'url': 'https://www.chartle.com/', 'content': 'Free Online Chart and Graph Maker. Chartle.com is a free online tool where you can create and make your own charts and graphs. We support line charts, bar graphs, bubble charts, pie and donut charts as well as scatter, radar and polar graphs and charts. Select a chart type and enter data for your chart and the chart will be created instantly.', 'score': 0.6461254, 'raw_content': None}], 'response_time': 2.85})]}}\n",
      "----\n",
      "{'Researcher': {'messages': [AIMessage(content='I found some chart generator tools, but I do not have direct access to create charts myself. Here are a few options you can use to create a chart using the GDP data for Canada:\\n\\n1. **Piktochart** - [Piktochart AI Chart Generator](https://piktochart.com/ai-chart-generator/)\\n2. **ChartsMaker** - [ChartsMaker](https://chartsmaker.com/)\\n3. **Visme** - [Visme Chart Maker](https://www.visme.co/chart-maker/)\\n4. **Visual Paradigm** - [Visual Paradigm Online Chart Maker](https://online.visual-paradigm.com/charts/)\\n5. **Chartle** - [Chartle.com](https://www.chartle.com/)\\n\\nYou can input the following GDP data into one of these tools to create your chart:\\n\\n- **2019**: $1,743.73 billion\\n- **2020**: $1,655.68 billion\\n- **2021**: $2,007.47 billion\\n- **2022**: $2,161.48 billion\\n- **2023**: $2,140.09 billion \\n\\nChoose a chart type that best represents this data, such as a line chart or bar chart, and follow the instructions on the selected website to create your chart.', additional_kwargs={'refusal': None}, response_metadata={'token_usage': {'completion_tokens': 274, 'prompt_tokens': 4771, 'total_tokens': 5045, 'completion_tokens_details': {'audio_tokens': None, 'reasoning_tokens': 0}, 'prompt_tokens_details': {'audio_tokens': None, 'cached_tokens': 3584}}, 'model_name': 'gpt-4o-mini-2024-07-18', 'system_fingerprint': 'fp_8bfc6a7dc2', 'finish_reason': 'stop', 'logprobs': None}, name='Researcher', id='run-3501ca46-7644-495f-8e2a-616457548ebb-0', usage_metadata={'input_tokens': 4771, 'output_tokens': 274, 'total_tokens': 5045, 'input_token_details': {'cache_read': 3584}, 'output_token_details': {'reasoning': 0}})], 'sender': 'Researcher'}}\n",
      "----\n"
     ]
    },
    {
     "name": "stderr",
     "output_type": "stream",
     "text": [
      "Python REPL can execute arbitrary code. Use with caution.\n"
     ]
    },
    {
     "name": "stdout",
     "output_type": "stream",
     "text": [
      "{'chart_generator': {'messages': [AIMessage(content='', additional_kwargs={'tool_calls': [{'id': 'call_sX3YbRH2PyT7VdNXfSwjHb6L', 'function': {'arguments': '{\"code\":\"import matplotlib.pyplot as plt\\\\n\\\\n# GDP data for Canada over the past 5 years\\\\nyears = [2019, 2020, 2021, 2022, 2023]\\\\ngdp_values = [1743.73, 1655.68, 2007.47, 2161.48, 2140.09]  # in billion USD\\\\n\\\\n# Create a line chart\\\\nplt.figure(figsize=(10, 6))\\\\nplt.plot(years, gdp_values, marker=\\'o\\')\\\\nplt.title(\\'Canada GDP Over the Past 5 Years\\')\\\\nplt.xlabel(\\'Year\\')\\\\nplt.ylabel(\\'GDP (in billion USD)\\')\\\\nplt.xticks(years)\\\\nplt.grid(True)\\\\nplt.show()\"}', 'name': 'python_repl'}, 'type': 'function'}], 'refusal': None}, response_metadata={'token_usage': {'completion_tokens': 177, 'prompt_tokens': 5069, 'total_tokens': 5246, 'completion_tokens_details': {'audio_tokens': None, 'reasoning_tokens': 0}, 'prompt_tokens_details': {'audio_tokens': None, 'cached_tokens': 0}}, 'model_name': 'gpt-4o-mini-2024-07-18', 'system_fingerprint': 'fp_0ba0d124f1', 'finish_reason': 'tool_calls', 'logprobs': None}, name='chart_generator', id='run-c7153a0c-7588-40ff-bac3-2058c0f3ad16-0', tool_calls=[{'name': 'python_repl', 'args': {'code': \"import matplotlib.pyplot as plt\\n\\n# GDP data for Canada over the past 5 years\\nyears = [2019, 2020, 2021, 2022, 2023]\\ngdp_values = [1743.73, 1655.68, 2007.47, 2161.48, 2140.09]  # in billion USD\\n\\n# Create a line chart\\nplt.figure(figsize=(10, 6))\\nplt.plot(years, gdp_values, marker='o')\\nplt.title('Canada GDP Over the Past 5 Years')\\nplt.xlabel('Year')\\nplt.ylabel('GDP (in billion USD)')\\nplt.xticks(years)\\nplt.grid(True)\\nplt.show()\"}, 'id': 'call_sX3YbRH2PyT7VdNXfSwjHb6L', 'type': 'tool_call'}], usage_metadata={'input_tokens': 5069, 'output_tokens': 177, 'total_tokens': 5246, 'input_token_details': {'cache_read': 0}, 'output_token_details': {'reasoning': 0}})], 'sender': 'chart_generator'}}\n",
      "----\n"
     ]
    },
    {
     "data": {
      "image/png": "[encoded data removed]",
      "text/plain": [
       "<Figure size 1000x600 with 1 Axes>"
      ]
     },
     "metadata": {},
     "output_type": "display_data"
    },
    {
     "name": "stdout",
     "output_type": "stream",
     "text": [
      "{'call_tool': {'messages': [ToolMessage(content=\"Successfully executed:\\n\\\\`\\\\`\\\\`python\\nimport matplotlib.pyplot as plt\\n\\n# GDP data for Canada over the past 5 years\\nyears = [2019, 2020, 2021, 2022, 2023]\\ngdp_values = [1743.73, 1655.68, 2007.47, 2161.48, 2140.09]  # in billion USD\\n\\n# Create a line chart\\nplt.figure(figsize=(10, 6))\\nplt.plot(years, gdp_values, marker='o')\\nplt.title('Canada GDP Over the Past 5 Years')\\nplt.xlabel('Year')\\nplt.ylabel('GDP (in billion USD)')\\nplt.xticks(years)\\nplt.grid(True)\\nplt.show()\\n\\\\`\\\\`\\\\`\\nStdout: \\n\\nIf you have completed all tasks, respond with FINAL ANSWER.\", name='python_repl', tool_call_id='call_sX3YbRH2PyT7VdNXfSwjHb6L')]}}\n",
      "----\n",
      "{'chart_generator': {'messages': [AIMessage(content=\"FINAL ANSWER: Here is the chart showing Canada's GDP over the past five years:\\n\\n![Canada GDP Over the Past 5 Years](attachment://Canada_GDP_Chart.png)\\n\\nIf you have any further requests or need additional information, feel free to ask!\", additional_kwargs={'refusal': None}, response_metadata={'token_usage': {'completion_tokens': 53, 'prompt_tokens': 5435, 'total_tokens': 5488, 'completion_tokens_details': {'audio_tokens': None, 'reasoning_tokens': 0}, 'prompt_tokens_details': {'audio_tokens': None, 'cached_tokens': 4992}}, 'model_name': 'gpt-4o-mini-2024-07-18', 'system_fingerprint': 'fp_0ba0d124f1', 'finish_reason': 'stop', 'logprobs': None}, name='chart_generator', id='run-fc39dc60-4044-4900-9d54-83000f360fd0-0', usage_metadata={'input_tokens': 5435, 'output_tokens': 53, 'total_tokens': 5488, 'input_token_details': {'cache_read': 4992}, 'output_token_details': {'reasoning': 0}})], 'sender': 'chart_generator'}}\n",
      "----\n"
     ]
    }
   ],
   "source": [
    "events = graph.stream(\n",
    "    {\n",
    "        \"messages\": [\n",
    "            HumanMessage(\n",
    "                content=\"\"\"Fetch the Canada's GDP over the past 5 years\n",
    "                and then create a chart for me using the chart_generator tool.\"\"\"\n",
    "            )\n",
    "        ],\n",
    "    },\n",
    "    # Maximum number of steps to take in the graph\n",
    "    {\"recursion_limit\": 150},\n",
    ")\n",
    "for s in events:\n",
    "    print(s)\n",
    "    print(\"----\")"
   ]
  },
  {
   "cell_type": "markdown",
   "metadata": {},
   "source": [
    "# Supervisor Multi Agent"
   ]
  },
  {
   "cell_type": "code",
   "execution_count": 70,
   "metadata": {},
   "outputs": [],
   "source": [
    "from typing import Annotated\n",
    "\n",
    "from langchain_community.tools.tavily_search import TavilySearchResults\n",
    "from langchain_experimental.tools import PythonREPLTool\n",
    "\n",
    "tavily_tool = TavilySearchResults(max_results=5)\n",
    "\n",
    "# This executes code locally, which can be unsafe\n",
    "python_repl_tool = PythonREPLTool()"
   ]
  },
  {
   "cell_type": "code",
   "execution_count": 71,
   "metadata": {},
   "outputs": [],
   "source": [
    "from langchain_core.messages import HumanMessage\n",
    "\n",
    "\n",
    "def agent_node(state, agent, name):\n",
    "    result = agent.invoke(state)\n",
    "    return {\n",
    "        \"messages\": [HumanMessage(content=result[\"messages\"][-1].content, name=name)]\n",
    "    }"
   ]
  },
  {
   "cell_type": "code",
   "execution_count": 73,
   "metadata": {},
   "outputs": [],
   "source": [
    "from langchain_core.prompts import ChatPromptTemplate, MessagesPlaceholder\n",
    "from langchain_openai import ChatOpenAI\n",
    "from pydantic import BaseModel\n",
    "from typing import Literal\n",
    "\n",
    "members = [\"Researcher\", \"Coder\"]\n",
    "system_prompt = (\n",
    "    \"You are a supervisor tasked with managing a conversation between the\"\n",
    "    \" following workers:  {members}. Given the following user request,\"\n",
    "    \" respond with the worker to act next. Each worker will perform a\"\n",
    "    \" task and respond with their results and status. When finished,\"\n",
    "    \" respond with FINISH.\"\n",
    ")\n",
    "# Our team supervisor is an LLM node. It just picks the next agent to process\n",
    "# and decides when the work is completed\n",
    "options = [\"FINISH\"] + members\n",
    "\n",
    "\n",
    "class routeResponse(BaseModel):\n",
    "    next: Literal[*options]\n",
    "\n",
    "\n",
    "prompt = ChatPromptTemplate.from_messages(\n",
    "    [\n",
    "        (\"system\", system_prompt),\n",
    "        MessagesPlaceholder(variable_name=\"messages\"),\n",
    "        (\n",
    "            \"system\",\n",
    "            \"Given the conversation above, who should act next?\"\n",
    "            \" Or should we FINISH? Select one of: {options}\",\n",
    "        ),\n",
    "    ]\n",
    ").partial(options=str(options), members=\", \".join(members))\n",
    "\n",
    "\n",
    "llm = ChatOpenAI(model=\"gpt-4o-mini\")\n",
    "\n",
    "\n",
    "def supervisor_agent(state):\n",
    "    supervisor_chain = prompt | llm.with_structured_output(routeResponse)\n",
    "    return supervisor_chain.invoke(state)"
   ]
  },
  {
   "cell_type": "code",
   "execution_count": 75,
   "metadata": {},
   "outputs": [],
   "source": [
    "import functools\n",
    "import operator\n",
    "from typing import Sequence\n",
    "from typing_extensions import TypedDict\n",
    "\n",
    "from langchain_core.messages import BaseMessage\n",
    "\n",
    "from langgraph.graph import END, StateGraph, START\n",
    "from langgraph.prebuilt import create_react_agent\n",
    "\n",
    "\n",
    "# The agent state is the input to each node in the graph\n",
    "class AgentState(TypedDict):\n",
    "    # The annotation tells the graph that new messages will always\n",
    "    # be added to the current states\n",
    "    messages: Annotated[Sequence[BaseMessage], operator.add]\n",
    "    # The 'next' field indicates where to route to next\n",
    "    next: str\n",
    "\n",
    "\n",
    "research_agent = create_react_agent(llm, tools=[tavily_tool])\n",
    "research_node = functools.partial(agent_node, agent=research_agent, name=\"Researcher\")\n",
    "\n",
    "code_agent = create_react_agent(llm, tools=[python_repl_tool])\n",
    "code_node = functools.partial(agent_node, agent=code_agent, name=\"Coder\")\n",
    "\n",
    "workflow = StateGraph(AgentState)\n",
    "workflow.add_node(\"Researcher\", research_node)\n",
    "workflow.add_node(\"Coder\", code_node)\n",
    "workflow.add_node(\"supervisor\", supervisor_agent)\n",
    "for member in members:\n",
    "    # We want our workers to ALWAYS \"report back\" to the supervisor when done\n",
    "    workflow.add_edge(member, \"supervisor\")\n",
    "# The supervisor populates the \"next\" field in the graph state\n",
    "# which routes to a node or finishes\n",
    "conditional_map = {k: k for k in members}\n",
    "conditional_map[\"FINISH\"] = END\n",
    "workflow.add_conditional_edges(\"supervisor\", lambda x: x[\"next\"], conditional_map)\n",
    "# Finally, add entrypoint\n",
    "workflow.add_edge(START, \"supervisor\")\n",
    "\n",
    "graph = workflow.compile()"
   ]
  },
  {
   "cell_type": "code",
   "execution_count": 76,
   "metadata": {},
   "outputs": [
    {
     "data": {
      "image/jpeg": "[encoded data removed]",
      "text/plain": [
       "<IPython.core.display.Image object>"
      ]
     },
     "metadata": {},
     "output_type": "display_data"
    }
   ],
   "source": [
    "display(Image(graph.get_graph(xray=True).draw_mermaid_png()))"
   ]
  },
  {
   "cell_type": "code",
   "execution_count": 78,
   "metadata": {},
   "outputs": [
    {
     "name": "stdout",
     "output_type": "stream",
     "text": [
      "{'supervisor': {'next': 'Researcher'}}\n",
      "----\n",
      "{'Researcher': {'messages': [HumanMessage(content='### Research Report on Google Dev Fest 2024\\n\\n**Overview:**\\nGoogle Dev Fest 2024 is an annual international festival organized by Google Developer Groups (GDGs) worldwide. The event aims to bring together students, developers, and tech enthusiasts for a day filled with learning, networking, and exploration of the latest trends in technology. Each local GDG tailors the event to meet the interests and needs of its community, making each Dev Fest unique.\\n\\n**Key Features:**\\n- **Networking Opportunities:** Attendees can meet like-minded individuals, industry experts, and potential collaborators, fostering connections that may lead to future projects or job opportunities.\\n- **Technical Talks and Workshops:** Various sessions ranging from beginner to advanced topics are offered, ensuring that participants of all skill levels can benefit.\\n- **Codelabs:** Hands-on coding sessions where participants can work on real-world projects under the guidance of experienced developers.\\n- **Diverse Topics:** Sessions typically cover a broad spectrum of technologies, including web development, machine learning, cloud computing, and mobile development, among others.\\n\\n**Event Details:**\\n- **Date:** Various locations will host Dev Fest events throughout the latter part of 2024, with notable events including:\\n  - GDG Nashik on November 24, 2024\\n  - GDG Charlotte on December 13, 2024\\n  - GDG New Delhi, which promises to be one of the largest developer gatherings of the year.\\n\\n**Conclusion:**\\nGoogle Dev Fest 2024 represents a significant opportunity for developers to enhance their skills, engage with new technologies, and connect with a global community of tech enthusiasts. As the event approaches, participants are encouraged to check their local GDG chapters for specific event details and registration information.\\n\\n### Sample Code to Enhance Engagement\\n\\nTo make the report more interesting, we can include a simple interactive web application that lists upcoming Dev Fest events dynamically using JavaScript. Here’s a basic example:\\n\\n```html\\n<!DOCTYPE html>\\n<html lang=\"en\">\\n<head>\\n    <meta charset=\"UTF-8\">\\n    <meta name=\"viewport\" content=\"width=device-width, initial-scale=1.0\">\\n    <title>Google Dev Fest 2024 Events</title>\\n    <style>\\n        body {\\n            font-family: Arial, sans-serif;\\n            background-color: #f4f4f4;\\n            margin: 20px;\\n        }\\n        h1 {\\n            color: #4285F4;\\n        }\\n        ul {\\n            list-style-type: none;\\n            padding: 0;\\n        }\\n        li {\\n            background: #fff;\\n            margin: 5px 0;\\n            padding: 10px;\\n            border-radius: 5px;\\n            box-shadow: 0 2px 5px rgba(0,0,0,0.1);\\n        }\\n    </style>\\n</head>\\n<body>\\n    <h1>Upcoming Google Dev Fest 2024 Events</h1>\\n    <ul id=\"event-list\"></ul>\\n\\n    <script>\\n        const events = [\\n            { name: \"GDG Nashik\", date: \"November 24, 2024\" },\\n            { name: \"GDG Charlotte\", date: \"December 13, 2024\" },\\n            { name: \"GDG New Delhi\", date: \"TBD\" }\\n        ];\\n\\n        const eventList = document.getElementById(\\'event-list\\');\\n        events.forEach(event => {\\n            const li = document.createElement(\\'li\\');\\n            li.textContent = `${event.name} - ${event.date}`;\\n            eventList.appendChild(li);\\n        });\\n    </script>\\n</body>\\n</html>\\n```\\n\\nThis code creates a simple web page that dynamically lists the upcoming Google Dev Fest events using JavaScript. Users can easily visualize the event information, making the report more engaging and interactive.', additional_kwargs={}, response_metadata={}, name='Researcher')]}}\n",
      "----\n",
      "{'supervisor': {'next': 'Coder'}}\n",
      "----\n",
      "{'Coder': {'messages': [HumanMessage(content='### Research Report on Google Dev Fest 2024\\n\\n**Overview:**\\nGoogle Dev Fest 2024 is an annual international festival organized by Google Developer Groups (GDGs) worldwide. The event aims to bring together students, developers, and tech enthusiasts for a day filled with learning, networking, and exploration of the latest trends in technology. Each local GDG tailors the event to meet the interests and needs of its community, making each Dev Fest unique.\\n\\n**Key Features:**\\n- **Networking Opportunities:** Attendees can meet like-minded individuals, industry experts, and potential collaborators, fostering connections that may lead to future projects or job opportunities.\\n- **Technical Talks and Workshops:** Various sessions ranging from beginner to advanced topics are offered, ensuring that participants of all skill levels can benefit.\\n- **Codelabs:** Hands-on coding sessions where participants can work on real-world projects under the guidance of experienced developers.\\n- **Diverse Topics:** Sessions typically cover a broad spectrum of technologies, including web development, machine learning, cloud computing, and mobile development, among others.\\n\\n**Event Details:**\\n- **Date:** Various locations will host Dev Fest events throughout the latter part of 2024, with notable events including:\\n  - GDG Nashik on November 24, 2024\\n  - GDG Charlotte on December 13, 2024\\n  - GDG New Delhi, which promises to be one of the largest developer gatherings of the year.\\n\\n**Conclusion:**\\nGoogle Dev Fest 2024 represents a significant opportunity for developers to enhance their skills, engage with new technologies, and connect with a global community of tech enthusiasts. As the event approaches, participants are encouraged to check their local GDG chapters for specific event details and registration information.\\n\\n### Sample Code to Enhance Engagement\\n\\nTo make the report more interesting, we can include a simple interactive web application that lists upcoming Dev Fest events dynamically using JavaScript. Here’s a basic example:\\n\\n```html\\n<!DOCTYPE html>\\n<html lang=\"en\">\\n<head>\\n    <meta charset=\"UTF-8\">\\n    <meta name=\"viewport\" content=\"width=device-width, initial-scale=1.0\">\\n    <title>Google Dev Fest 2024 Events</title>\\n    <style>\\n        body {\\n            font-family: Arial, sans-serif;\\n            background-color: #f4f4f4;\\n            margin: 20px;\\n        }\\n        h1 {\\n            color: #4285F4;\\n        }\\n        ul {\\n            list-style-type: none;\\n            padding: 0;\\n        }\\n        li {\\n            background: #fff;\\n            margin: 5px 0;\\n            padding: 10px;\\n            border-radius: 5px;\\n            box-shadow: 0 2px 5px rgba(0,0,0,0.1);\\n        }\\n    </style>\\n</head>\\n<body>\\n    <h1>Upcoming Google Dev Fest 2024 Events</h1>\\n    <ul id=\"event-list\"></ul>\\n\\n    <script>\\n        const events = [\\n            { name: \"GDG Nashik\", date: \"November 24, 2024\" },\\n            { name: \"GDG Charlotte\", date: \"December 13, 2024\" },\\n            { name: \"GDG New Delhi\", date: \"TBD\" }\\n        ];\\n\\n        const eventList = document.getElementById(\\'event-list\\');\\n        events.forEach(event => {\\n            const li = document.createElement(\\'li\\');\\n            li.textContent = `${event.name} - ${event.date}`;\\n            eventList.appendChild(li);\\n        });\\n    </script>\\n</body>\\n</html>\\n```\\n\\nThis code creates a simple web page that dynamically lists the upcoming Google Dev Fest events using JavaScript. Users can easily visualize the event information, making the report more engaging and interactive.', additional_kwargs={}, response_metadata={}, name='Coder')]}}\n",
      "----\n",
      "{'supervisor': {'next': 'FINISH'}}\n",
      "----\n"
     ]
    }
   ],
   "source": [
    "for s in graph.stream(\n",
    "    {\"messages\": [HumanMessage(content=\"Write a brief research report on Google Dev Fest 2024. And add code to make it more interesting\")]},\n",
    "    {\"recursion_limit\": 100},\n",
    "):\n",
    "    if \"__end__\" not in s:\n",
    "        print(s)\n",
    "        print(\"----\")"
   ]
  },
  {
   "cell_type": "code",
   "execution_count": 80,
   "metadata": {},
   "outputs": [
    {
     "name": "stdout",
     "output_type": "stream",
     "text": [
      "### Research Report on Google Dev Fest 2024\n",
      "\n",
      "**Overview:**\n",
      "Google Dev Fest 2024 is an annual international festival organized by Google Developer Groups (GDGs) worldwide. The event aims to bring together students, developers, and tech enthusiasts for a day filled with learning, networking, and exploration of the latest trends in technology. Each local GDG tailors the event to meet the interests and needs of its community, making each Dev Fest unique.\n",
      "\n",
      "**Key Features:**\n",
      "- **Networking Opportunities:** Attendees can meet like-minded individuals, industry experts, and potential collaborators, fostering connections that may lead to future projects or job opportunities.\n",
      "- **Technical Talks and Workshops:** Various sessions ranging from beginner to advanced topics are offered, ensuring that participants of all skill levels can benefit.\n",
      "- **Codelabs:** Hands-on coding sessions where participants can work on real-world projects under the guidance of experienced developers.\n",
      "- **Diverse Topics:** Sessions typically cover a broad spectrum of technologies, including web development, machine learning, cloud computing, and mobile development, among others.\n",
      "\n",
      "**Event Details:**\n",
      "- **Date:** Various locations will host Dev Fest events throughout the latter part of 2024, with notable events including:\n",
      "  - GDG Nashik on November 24, 2024\n",
      "  - GDG Charlotte on December 13, 2024\n",
      "  - GDG New Delhi, which promises to be one of the largest developer gatherings of the year.\n",
      "\n",
      "**Conclusion:**\n",
      "Google Dev Fest 2024 represents a significant opportunity for developers to enhance their skills, engage with new technologies, and connect with a global community of tech enthusiasts. As the event approaches, participants are encouraged to check their local GDG chapters for specific event details and registration information.\n",
      "\n",
      "### Sample Code to Enhance Engagement\n",
      "\n",
      "To make the report more interesting, we can include a simple interactive web application that lists upcoming Dev Fest events dynamically using JavaScript. Here’s a basic example:\n",
      "\n",
      "```html\n",
      "<!DOCTYPE html>\n",
      "<html lang=\"en\">\n",
      "<head>\n",
      "    <meta charset=\"UTF-8\">\n",
      "    <meta name=\"viewport\" content=\"width=device-width, initial-scale=1.0\">\n",
      "    <title>Google Dev Fest 2024 Events</title>\n",
      "    <style>\n",
      "        body {\n",
      "            font-family: Arial, sans-serif;\n",
      "            background-color: #f4f4f4;\n",
      "            margin: 20px;\n",
      "        }\n",
      "        h1 {\n",
      "            color: #4285F4;\n",
      "        }\n",
      "        ul {\n",
      "            list-style-type: none;\n",
      "            padding: 0;\n",
      "        }\n",
      "        li {\n",
      "            background: #fff;\n",
      "            margin: 5px 0;\n",
      "            padding: 10px;\n",
      "            border-radius: 5px;\n",
      "            box-shadow: 0 2px 5px rgba(0,0,0,0.1);\n",
      "        }\n",
      "    </style>\n",
      "</head>\n",
      "<body>\n",
      "    <h1>Upcoming Google Dev Fest 2024 Events</h1>\n",
      "    <ul id=\"event-list\"></ul>\n",
      "\n",
      "    <script>\n",
      "        const events = [\n",
      "            { name: \"GDG Nashik\", date: \"November 24, 2024\" },\n",
      "            { name: \"GDG Charlotte\", date: \"December 13, 2024\" },\n",
      "            { name: \"GDG New Delhi\", date: \"TBD\" }\n",
      "        ];\n",
      "\n",
      "        const eventList = document.getElementById('event-list');\n",
      "        events.forEach(event => {\n",
      "            const li = document.createElement('li');\n",
      "            li.textContent = `${event.name} - ${event.date}`;\n",
      "            eventList.appendChild(li);\n",
      "        });\n",
      "    </script>\n",
      "</body>\n",
      "</html>\n",
      "```\n",
      "\n",
      "This code creates a simple web page that dynamically lists the upcoming Google Dev Fest events using JavaScript. Users can easily visualize the event information, making the report more engaging and interactive.\n"
     ]
    }
   ],
   "source": [
    "print(\"\"\"### Research Report on Google Dev Fest 2024\\n\\n**Overview:**\\nGoogle Dev Fest 2024 is an annual international festival organized by Google Developer Groups (GDGs) worldwide. The event aims to bring together students, developers, and tech enthusiasts for a day filled with learning, networking, and exploration of the latest trends in technology. Each local GDG tailors the event to meet the interests and needs of its community, making each Dev Fest unique.\\n\\n**Key Features:**\\n- **Networking Opportunities:** Attendees can meet like-minded individuals, industry experts, and potential collaborators, fostering connections that may lead to future projects or job opportunities.\\n- **Technical Talks and Workshops:** Various sessions ranging from beginner to advanced topics are offered, ensuring that participants of all skill levels can benefit.\\n- **Codelabs:** Hands-on coding sessions where participants can work on real-world projects under the guidance of experienced developers.\\n- **Diverse Topics:** Sessions typically cover a broad spectrum of technologies, including web development, machine learning, cloud computing, and mobile development, among others.\\n\\n**Event Details:**\\n- **Date:** Various locations will host Dev Fest events throughout the latter part of 2024, with notable events including:\\n  - GDG Nashik on November 24, 2024\\n  - GDG Charlotte on December 13, 2024\\n  - GDG New Delhi, which promises to be one of the largest developer gatherings of the year.\\n\\n**Conclusion:**\\nGoogle Dev Fest 2024 represents a significant opportunity for developers to enhance their skills, engage with new technologies, and connect with a global community of tech enthusiasts. As the event approaches, participants are encouraged to check their local GDG chapters for specific event details and registration information.\\n\\n### Sample Code to Enhance Engagement\\n\\nTo make the report more interesting, we can include a simple interactive web application that lists upcoming Dev Fest events dynamically using JavaScript. Here’s a basic example:\\n\\n```html\\n<!DOCTYPE html>\\n<html lang=\"en\">\\n<head>\\n    <meta charset=\"UTF-8\">\\n    <meta name=\"viewport\" content=\"width=device-width, initial-scale=1.0\">\\n    <title>Google Dev Fest 2024 Events</title>\\n    <style>\\n        body {\\n            font-family: Arial, sans-serif;\\n            background-color: #f4f4f4;\\n            margin: 20px;\\n        }\\n        h1 {\\n            color: #4285F4;\\n        }\\n        ul {\\n            list-style-type: none;\\n            padding: 0;\\n        }\\n        li {\\n            background: #fff;\\n            margin: 5px 0;\\n            padding: 10px;\\n            border-radius: 5px;\\n            box-shadow: 0 2px 5px rgba(0,0,0,0.1);\\n        }\\n    </style>\\n</head>\\n<body>\\n    <h1>Upcoming Google Dev Fest 2024 Events</h1>\\n    <ul id=\"event-list\"></ul>\\n\\n    <script>\\n        const events = [\\n            { name: \"GDG Nashik\", date: \"November 24, 2024\" },\\n            { name: \"GDG Charlotte\", date: \"December 13, 2024\" },\\n            { name: \"GDG New Delhi\", date: \"TBD\" }\\n        ];\\n\\n        const eventList = document.getElementById(\\'event-list\\');\\n        events.forEach(event => {\\n            const li = document.createElement(\\'li\\');\\n            li.textContent = `${event.name} - ${event.date}`;\\n            eventList.appendChild(li);\\n        });\\n    </script>\\n</body>\\n</html>\\n```\\n\\nThis code creates a simple web page that dynamically lists the upcoming Google Dev Fest events using JavaScript. Users can easily visualize the event information, making the report more engaging and interactive.\"\"\")"
   ]
  },
  {
   "cell_type": "markdown",
   "metadata": {},
   "source": [
    "# Hierarchical Multi Agent"
   ]
  },
  {
   "cell_type": "code",
   "execution_count": 100,
   "metadata": {},
   "outputs": [],
   "source": [
    "\n",
    "from typing import Annotated, List\n",
    "\n",
    "from langchain_community.document_loaders import WebBaseLoader\n",
    "from langchain_community.tools.tavily_search import TavilySearchResults\n",
    "from langchain_core.tools import tool\n",
    "\n",
    "tavily_tool = TavilySearchResults(max_results=5)\n",
    "\n",
    "\n",
    "@tool\n",
    "def scrape_webpages(urls: List[str]) -> str:\n",
    "    \"\"\"Use requests and bs4 to scrape the provided web pages for detailed information.\"\"\"\n",
    "    loader = WebBaseLoader(urls)\n",
    "    docs = loader.load()\n",
    "    return \"\\n\\n\".join(\n",
    "        [\n",
    "            f'<Document name=\"{doc.metadata.get(\"title\", \"\")}\">\\n{doc.page_content}\\n</Document>'\n",
    "            for doc in docs\n",
    "        ]\n",
    "    )"
   ]
  },
  {
   "cell_type": "code",
   "execution_count": 101,
   "metadata": {},
   "outputs": [
    {
     "name": "stderr",
     "output_type": "stream",
     "text": [
      "<>:91: SyntaxWarning: invalid escape sequence '\\`'\n",
      "<>:91: SyntaxWarning: invalid escape sequence '\\`'\n",
      "<>:91: SyntaxWarning: invalid escape sequence '\\`'\n",
      "<>:91: SyntaxWarning: invalid escape sequence '\\`'\n",
      "/var/folders/xr/_lgq_d2n0gqcb9j65glnlwjc0000gn/T/ipykernel_54511/4261612481.py:91: SyntaxWarning: invalid escape sequence '\\`'\n",
      "  return f\"Successfully executed:\\n\\`\\`\\`python\\n{code}\\n\\`\\`\\`\\nStdout: {result}\"\n",
      "/var/folders/xr/_lgq_d2n0gqcb9j65glnlwjc0000gn/T/ipykernel_54511/4261612481.py:91: SyntaxWarning: invalid escape sequence '\\`'\n",
      "  return f\"Successfully executed:\\n\\`\\`\\`python\\n{code}\\n\\`\\`\\`\\nStdout: {result}\"\n"
     ]
    }
   ],
   "source": [
    "from pathlib import Path\n",
    "from tempfile import TemporaryDirectory\n",
    "from typing import Dict, Optional\n",
    "\n",
    "from langchain_experimental.utilities import PythonREPL\n",
    "from typing_extensions import TypedDict\n",
    "\n",
    "_TEMP_DIRECTORY = TemporaryDirectory()\n",
    "WORKING_DIRECTORY = Path(_TEMP_DIRECTORY.name)\n",
    "\n",
    "\n",
    "@tool\n",
    "def create_outline(\n",
    "    points: Annotated[List[str], \"List of main points or sections.\"],\n",
    "    file_name: Annotated[str, \"File path to save the outline.\"],\n",
    ") -> Annotated[str, \"Path of the saved outline file.\"]:\n",
    "    \"\"\"Create and save an outline.\"\"\"\n",
    "    with (WORKING_DIRECTORY / file_name).open(\"w\") as file:\n",
    "        for i, point in enumerate(points):\n",
    "            file.write(f\"{i + 1}. {point}\\n\")\n",
    "    return f\"Outline saved to {file_name}\"\n",
    "\n",
    "\n",
    "@tool\n",
    "def read_document(\n",
    "    file_name: Annotated[str, \"File path to save the document.\"],\n",
    "    start: Annotated[Optional[int], \"The start line. Default is 0\"] = None,\n",
    "    end: Annotated[Optional[int], \"The end line. Default is None\"] = None,\n",
    ") -> str:\n",
    "    \"\"\"Read the specified document.\"\"\"\n",
    "    with (WORKING_DIRECTORY / file_name).open(\"r\") as file:\n",
    "        lines = file.readlines()\n",
    "    if start is not None:\n",
    "        start = 0\n",
    "    return \"\\n\".join(lines[start:end])\n",
    "\n",
    "\n",
    "@tool\n",
    "def write_document(\n",
    "    content: Annotated[str, \"Text content to be written into the document.\"],\n",
    "    file_name: Annotated[str, \"File path to save the document.\"],\n",
    ") -> Annotated[str, \"Path of the saved document file.\"]:\n",
    "    \"\"\"Create and save a text document.\"\"\"\n",
    "    with (WORKING_DIRECTORY / file_name).open(\"w\") as file:\n",
    "        file.write(content)\n",
    "    return f\"Document saved to {file_name}\"\n",
    "\n",
    "\n",
    "@tool\n",
    "def edit_document(\n",
    "    file_name: Annotated[str, \"Path of the document to be edited.\"],\n",
    "    inserts: Annotated[\n",
    "        Dict[int, str],\n",
    "        \"Dictionary where key is the line number (1-indexed) and value is the text to be inserted at that line.\",\n",
    "    ],\n",
    ") -> Annotated[str, \"Path of the edited document file.\"]:\n",
    "    \"\"\"Edit a document by inserting text at specific line numbers.\"\"\"\n",
    "\n",
    "    with (WORKING_DIRECTORY / file_name).open(\"r\") as file:\n",
    "        lines = file.readlines()\n",
    "\n",
    "    sorted_inserts = sorted(inserts.items())\n",
    "\n",
    "    for line_number, text in sorted_inserts:\n",
    "        if 1 <= line_number <= len(lines) + 1:\n",
    "            lines.insert(line_number - 1, text + \"\\n\")\n",
    "        else:\n",
    "            return f\"Error: Line number {line_number} is out of range.\"\n",
    "\n",
    "    with (WORKING_DIRECTORY / file_name).open(\"w\") as file:\n",
    "        file.writelines(lines)\n",
    "\n",
    "    return f\"Document edited and saved to {file_name}\"\n",
    "\n",
    "\n",
    "# Warning: This executes code locally, which can be unsafe when not sandboxed\n",
    "\n",
    "repl = PythonREPL()\n",
    "\n",
    "\n",
    "@tool\n",
    "def python_repl(\n",
    "    code: Annotated[str, \"The python code to execute to generate your chart.\"],\n",
    "):\n",
    "    \"\"\"Use this to execute python code. If you want to see the output of a value,\n",
    "    you should print it out with `print(...)`. This is visible to the user.\"\"\"\n",
    "    try:\n",
    "        result = repl.run(code)\n",
    "    except BaseException as e:\n",
    "        return f\"Failed to execute. Error: {repr(e)}\"\n",
    "    return f\"Successfully executed:\\n\\`\\`\\`python\\n{code}\\n\\`\\`\\`\\nStdout: {result}\""
   ]
  },
  {
   "cell_type": "code",
   "execution_count": 102,
   "metadata": {},
   "outputs": [],
   "source": [
    "from typing import List, Optional\n",
    "from langchain.output_parsers.openai_functions import JsonOutputFunctionsParser\n",
    "from langchain_core.prompts import ChatPromptTemplate, MessagesPlaceholder\n",
    "from langchain_openai import ChatOpenAI\n",
    "\n",
    "from langgraph.graph import END, StateGraph, START\n",
    "from langchain_core.messages import HumanMessage, trim_messages\n",
    "\n",
    "llm = ChatOpenAI(model=\"gpt-4o-mini\")\n",
    "\n",
    "trimmer = trim_messages(\n",
    "    max_tokens=100000,\n",
    "    strategy=\"last\",\n",
    "    token_counter=llm,\n",
    "    include_system=True,\n",
    ")\n",
    "\n",
    "\n",
    "def agent_node(state, agent, name):\n",
    "    result = agent.invoke(state)\n",
    "    return {\n",
    "        \"messages\": [HumanMessage(content=result[\"messages\"][-1].content, name=name)]\n",
    "    }\n",
    "\n",
    "\n",
    "def create_team_supervisor(llm: ChatOpenAI, system_prompt, members) -> str:\n",
    "    \"\"\"An LLM-based router.\"\"\"\n",
    "    options = [\"FINISH\"] + members\n",
    "    function_def = {\n",
    "        \"name\": \"route\",\n",
    "        \"description\": \"Select the next role.\",\n",
    "        \"parameters\": {\n",
    "            \"title\": \"routeSchema\",\n",
    "            \"type\": \"object\",\n",
    "            \"properties\": {\n",
    "                \"next\": {\n",
    "                    \"title\": \"Next\",\n",
    "                    \"anyOf\": [\n",
    "                        {\"enum\": options},\n",
    "                    ],\n",
    "                },\n",
    "            },\n",
    "            \"required\": [\"next\"],\n",
    "        },\n",
    "    }\n",
    "    prompt = ChatPromptTemplate.from_messages(\n",
    "        [\n",
    "            (\"system\", system_prompt),\n",
    "            MessagesPlaceholder(variable_name=\"messages\"),\n",
    "            (\n",
    "                \"system\",\n",
    "                \"Given the conversation above, who should act next?\"\n",
    "                \" Or should we FINISH? Select one of: {options}\",\n",
    "            ),\n",
    "        ]\n",
    "    ).partial(options=str(options), team_members=\", \".join(members))\n",
    "    return (\n",
    "        prompt\n",
    "        | trimmer\n",
    "        | llm.bind_functions(functions=[function_def], function_call=\"route\")\n",
    "        | JsonOutputFunctionsParser()\n",
    "    )"
   ]
  },
  {
   "cell_type": "code",
   "execution_count": 103,
   "metadata": {},
   "outputs": [],
   "source": [
    "import functools\n",
    "import operator\n",
    "\n",
    "from langchain_core.messages import BaseMessage, HumanMessage\n",
    "from langchain_openai.chat_models import ChatOpenAI\n",
    "from langgraph.prebuilt import create_react_agent\n",
    "\n",
    "\n",
    "# ResearchTeam graph state\n",
    "class ResearchTeamState(TypedDict):\n",
    "    messages: Annotated[List[BaseMessage], operator.add]\n",
    "    team_members: List[str]\n",
    "    next: str\n",
    "\n",
    "\n",
    "llm = ChatOpenAI(model=\"gpt-4o-mini\")\n",
    "\n",
    "search_agent = create_react_agent(llm, tools=[tavily_tool])\n",
    "search_node = functools.partial(agent_node, agent=search_agent, name=\"Search\")\n",
    "\n",
    "research_agent = create_react_agent(llm, tools=[scrape_webpages])\n",
    "research_node = functools.partial(agent_node, agent=research_agent, name=\"WebScraper\")\n",
    "\n",
    "supervisor_agent = create_team_supervisor(\n",
    "    llm,\n",
    "    \"You are a supervisor tasked with managing a conversation between the\"\n",
    "    \" following workers:  Search, WebScraper. Given the following user request,\"\n",
    "    \" respond with the worker to act next. Each worker will perform a\"\n",
    "    \" task and respond with their results and status. When finished,\"\n",
    "    \" respond with FINISH.\",\n",
    "    [\"Search\", \"WebScraper\"],\n",
    ")"
   ]
  },
  {
   "cell_type": "code",
   "execution_count": 104,
   "metadata": {},
   "outputs": [],
   "source": [
    "research_graph = StateGraph(ResearchTeamState)\n",
    "research_graph.add_node(\"Search\", search_node)\n",
    "research_graph.add_node(\"WebScraper\", research_node)\n",
    "research_graph.add_node(\"supervisor\", supervisor_agent)\n",
    "\n",
    "# Define the control flow\n",
    "research_graph.add_edge(\"Search\", \"supervisor\")\n",
    "research_graph.add_edge(\"WebScraper\", \"supervisor\")\n",
    "research_graph.add_conditional_edges(\n",
    "    \"supervisor\",\n",
    "    lambda x: x[\"next\"],\n",
    "    {\"Search\": \"Search\", \"WebScraper\": \"WebScraper\", \"FINISH\": END},\n",
    ")\n",
    "\n",
    "\n",
    "research_graph.add_edge(START, \"supervisor\")\n",
    "chain = research_graph.compile()\n",
    "\n",
    "def enter_chain(message: str):\n",
    "    results = {\n",
    "        \"messages\": [HumanMessage(content=message)],\n",
    "    }\n",
    "    return results\n",
    "\n",
    "\n",
    "research_chain = enter_chain | chain"
   ]
  },
  {
   "cell_type": "code",
   "execution_count": 105,
   "metadata": {},
   "outputs": [
    {
     "data": {
      "image/jpeg": "[encoded data removed]",
      "text/plain": [
       "<IPython.core.display.Image object>"
      ]
     },
     "metadata": {},
     "output_type": "display_data"
    }
   ],
   "source": [
    "from IPython.display import Image, display\n",
    "\n",
    "display(Image(chain.get_graph(xray=True).draw_mermaid_png()))"
   ]
  },
  {
   "cell_type": "code",
   "execution_count": 106,
   "metadata": {},
   "outputs": [
    {
     "name": "stdout",
     "output_type": "stream",
     "text": [
      "{'supervisor': {'next': 'Search'}}\n",
      "---\n",
      "{'Search': {'messages': [HumanMessage(content='The Toronto gold heist refers to a significant theft that took place on April 17, 2023, at Toronto Pearson International Airport, where over C$20 million (approximately US$15 million) worth of gold and cash was stolen. The incident involved the theft of 6,600 gold bars, making it one of the largest gold heists in Canadian history.\\n\\n### Details of the Heist:\\n- **Method**: The gold was offloaded from an inbound aircraft and transferred to an Air Canada holding facility. The thieves used a forged shipping document to deceive Air Canada staff into loading the gold onto a getaway truck.\\n- **Investigation**: The police began investigating the incident, and it was revealed that some of the suspects had connections to firearms trafficking.\\n- **Outcome**: Reports indicated that much of the stolen gold has since been traced overseas, with destinations including Dubai and India.\\n\\nFor further reading, you can find more detailed information on the [Wikipedia page](https://en.wikipedia.org/wiki/Toronto_Pearson_International_Airport_heist) or other sources such as [BBC News](https://www.bbc.com/news/world-us-canada-65328968) and [CBS News](https://www.cbsnews.com/news/canada-gold-heist-toronto-police-charge-suspects/).', additional_kwargs={}, response_metadata={}, name='Search')]}}\n",
      "---\n",
      "{'supervisor': {'next': 'FINISH'}}\n",
      "---\n"
     ]
    }
   ],
   "source": [
    "for s in research_chain.stream(\n",
    "    \"Tell me about the Toronto gold heist\",\n",
    "    {\"recursion_limit\": 100},\n",
    "):\n",
    "    if \"__end__\" not in s:\n",
    "        print(s)\n",
    "        print(\"---\")"
   ]
  },
  {
   "cell_type": "code",
   "execution_count": 107,
   "metadata": {},
   "outputs": [],
   "source": [
    "import operator\n",
    "from pathlib import Path\n",
    "\n",
    "\n",
    "# Document writing team graph state\n",
    "class DocWritingState(TypedDict):\n",
    "    # This tracks the team's conversation internally\n",
    "    messages: Annotated[List[BaseMessage], operator.add]\n",
    "    # This provides each worker with context on the others' skill sets\n",
    "    team_members: str\n",
    "    # This is how the supervisor tells langgraph who to work next\n",
    "    next: str\n",
    "    # This tracks the shared directory state\n",
    "    current_files: str\n",
    "\n",
    "\n",
    "# This will be run before each worker agent begins work\n",
    "# It makes it so they are more aware of the current state\n",
    "# of the working directory.\n",
    "def prelude(state):\n",
    "    written_files = []\n",
    "    if not WORKING_DIRECTORY.exists():\n",
    "        WORKING_DIRECTORY.mkdir()\n",
    "    try:\n",
    "        written_files = [\n",
    "            f.relative_to(WORKING_DIRECTORY) for f in WORKING_DIRECTORY.rglob(\"*\")\n",
    "        ]\n",
    "    except Exception:\n",
    "        pass\n",
    "    if not written_files:\n",
    "        return {**state, \"current_files\": \"No files written.\"}\n",
    "    return {\n",
    "        **state,\n",
    "        \"current_files\": \"\\nBelow are files your team has written to the directory:\\n\"\n",
    "        + \"\\n\".join([f\" - {f}\" for f in written_files]),\n",
    "    }\n",
    "\n",
    "\n",
    "llm = ChatOpenAI(model=\"gpt-4o-mini\")\n",
    "\n",
    "doc_writer_agent = create_react_agent(\n",
    "    llm, tools=[write_document, edit_document, read_document]\n",
    ")\n",
    "# Injects current directory working state before each call\n",
    "context_aware_doc_writer_agent = prelude | doc_writer_agent\n",
    "doc_writing_node = functools.partial(\n",
    "    agent_node, agent=context_aware_doc_writer_agent, name=\"DocWriter\"\n",
    ")\n",
    "\n",
    "note_taking_agent = create_react_agent(llm, tools=[create_outline, read_document])\n",
    "context_aware_note_taking_agent = prelude | note_taking_agent\n",
    "note_taking_node = functools.partial(\n",
    "    agent_node, agent=context_aware_note_taking_agent, name=\"NoteTaker\"\n",
    ")\n",
    "\n",
    "chart_generating_agent = create_react_agent(llm, tools=[read_document, python_repl])\n",
    "context_aware_chart_generating_agent = prelude | chart_generating_agent\n",
    "chart_generating_node = functools.partial(\n",
    "    agent_node, agent=context_aware_note_taking_agent, name=\"ChartGenerator\"\n",
    ")\n",
    "\n",
    "doc_writing_supervisor = create_team_supervisor(\n",
    "    llm,\n",
    "    \"You are a supervisor tasked with managing a conversation between the\"\n",
    "    \" following workers:  {team_members}. Given the following user request,\"\n",
    "    \" respond with the worker to act next. Each worker will perform a\"\n",
    "    \" task and respond with their results and status. When finished,\"\n",
    "    \" respond with FINISH.\",\n",
    "    [\"DocWriter\", \"NoteTaker\", \"ChartGenerator\"],\n",
    ")"
   ]
  },
  {
   "cell_type": "code",
   "execution_count": 108,
   "metadata": {},
   "outputs": [],
   "source": [
    "# Create the graph here:\n",
    "# Note that we have unrolled the loop for the sake of this doc\n",
    "authoring_graph = StateGraph(DocWritingState)\n",
    "authoring_graph.add_node(\"DocWriter\", doc_writing_node)\n",
    "authoring_graph.add_node(\"NoteTaker\", note_taking_node)\n",
    "authoring_graph.add_node(\"ChartGenerator\", chart_generating_node)\n",
    "authoring_graph.add_node(\"supervisor\", doc_writing_supervisor)\n",
    "\n",
    "# Add the edges that always occur\n",
    "authoring_graph.add_edge(\"DocWriter\", \"supervisor\")\n",
    "authoring_graph.add_edge(\"NoteTaker\", \"supervisor\")\n",
    "authoring_graph.add_edge(\"ChartGenerator\", \"supervisor\")\n",
    "\n",
    "# Add the edges where routing applies\n",
    "authoring_graph.add_conditional_edges(\n",
    "    \"supervisor\",\n",
    "    lambda x: x[\"next\"],\n",
    "    {\n",
    "        \"DocWriter\": \"DocWriter\",\n",
    "        \"NoteTaker\": \"NoteTaker\",\n",
    "        \"ChartGenerator\": \"ChartGenerator\",\n",
    "        \"FINISH\": END,\n",
    "    },\n",
    ")\n",
    "\n",
    "authoring_graph.add_edge(START, \"supervisor\")\n",
    "chain = authoring_graph.compile()\n",
    "\n",
    "\n",
    "# The following functions interoperate between the top level graph state\n",
    "# and the state of the research sub-graph\n",
    "# this makes it so that the states of each graph don't get intermixed\n",
    "def enter_chain(message: str, members: List[str]):\n",
    "    results = {\n",
    "        \"messages\": [HumanMessage(content=message)],\n",
    "        \"team_members\": \", \".join(members),\n",
    "    }\n",
    "    return results\n",
    "\n",
    "\n",
    "# We reuse the enter/exit functions to wrap the graph\n",
    "authoring_chain = (\n",
    "    functools.partial(enter_chain, members=authoring_graph.nodes)\n",
    "    | authoring_graph.compile()\n",
    ")"
   ]
  },
  {
   "cell_type": "code",
   "execution_count": 109,
   "metadata": {},
   "outputs": [
    {
     "data": {
      "image/jpeg": "[encoded data removed]",
      "text/plain": [
       "<IPython.core.display.Image object>"
      ]
     },
     "metadata": {},
     "output_type": "display_data"
    }
   ],
   "source": [
    "display(Image(chain.get_graph().draw_mermaid_png()))"
   ]
  },
  {
   "cell_type": "code",
   "execution_count": 110,
   "metadata": {},
   "outputs": [
    {
     "name": "stdout",
     "output_type": "stream",
     "text": [
      "{'supervisor': {'next': 'Search'}}\n",
      "---\n",
      "{'Search': {'messages': [HumanMessage(content='### Title: \"The Toronto Gold Heist: A Daring Deception\"\\n\\n#### Episode 1: \"The Setup\"\\nIn this episode, viewers are introduced to the Toronto Gold Heist, exploring the background of the gold market and the significance of gold as a commodity. Experts discuss the security measures surrounding gold storage and introduce the key players involved in the heist. The episode ends with the heist\\'s planning phase, highlighting the meticulous preparations made by the thieves.\\n\\n#### Episode 2: \"Inside the Vault\"\\nThis episode delves into the specifics of the Toronto Gold Vault, examining its security features and the challenges it posed to potential thieves. Interviews with security experts reveal the vulnerabilities in the system and discuss how the heist was conceived. The episode includes dramatic reconstructions of the heist planning process and introduces the mastermind behind the operation.\\n\\n#### Episode 3: \"The Execution\"\\nThe tension builds as this episode recounts the day of the heist. Viewers witness the execution of the plan, including the roles played by each member of the crew. Through a mix of surveillance footage and dramatizations, the episode captures the adrenaline of the heist as the thieves bypass security measures and gain access to the gold.\\n\\n#### Episode 4: \"The Aftermath\"\\nFollowing the successful heist, this episode explores the immediate aftermath. News outlets report on the incident, and law enforcement agencies launch investigations. Interviews with detectives reveal the challenges they face in tracking down the thieves and recovering the stolen gold. The episode emphasizes the impact of the heist on the security industry and public perception of gold investments.\\n\\n#### Episode 5: \"Caught in the Act\"\\nThis episode focuses on the investigation that leads to the arrest of some of the thieves. It highlights the forensic evidence, tips from informants, and the use of technology in tracking down the criminals. The episode ends on a cliffhanger, revealing that not all thieves were caught, hinting at the possibility of a larger conspiracy.\\n\\n#### Episode 6: \"The Final Chapter\"\\nIn the concluding episode, the remaining thieves are pursued, and the investigation reaches its climax. Viewers learn about the fate of the stolen gold and hear from those affected by the heist, including investors and security personnel. The episode wraps up with insights into the lessons learned from the heist and its lasting impact on security measures in the gold industry.\\n\\n### Format\\n- Each episode runs for 10 minutes.\\n- The documentary features a blend of interviews, dramatizations, expert commentary, and real footage.\\n- Engaging visuals and a suspenseful soundtrack enhance the storytelling.\\n\\nThis documentary aims to enthrall audiences with a gripping true crime narrative, exploring the intricate world of heists and the people behind them. \\n\\n(Note: As an AI, I cannot write to disk or create files, but you can easily copy this text and save it as a document on your device.)', additional_kwargs={}, response_metadata={}, name='Search')]}}\n",
      "---\n",
      "{'supervisor': {'next': 'WebScraper'}}\n",
      "---\n",
      "{'WebScraper': {'messages': [HumanMessage(content='Here is a detailed plot for a Netflix documentary titled \"The Toronto Gold Heist: A Daring Deception\". Each episode is structured to be 10 minutes long, combining expert commentary, dramatizations, and real footage to engage viewers.\\n\\n### Title: \"The Toronto Gold Heist: A Daring Deception\"\\n\\n#### Episode 1: \"The Setup\"\\nThis episode introduces viewers to the world of gold as a valuable commodity and its significance in the financial market. Experts discuss the historical context of gold investments and the measures in place to secure it. The episode outlines the key players in the heist, including the thieves and security personnel, setting the stage for the events to follow. It culminates with the planning phase of the heist, showcasing the meticulous preparations and research done by the criminal masterminds.\\n\\n#### Episode 2: \"Inside the Vault\"\\nFocusing on the Toronto Gold Vault, this episode examines its state-of-the-art security features. Interviews with security experts reveal the vulnerabilities and loopholes that the thieves exploited. Dramatic reenactments illustrate the planning process, including sketches and models used by the criminals. The mastermind\\'s background is explored, providing insight into the motivations behind the heist.\\n\\n#### Episode 3: \"The Execution\"\\nThe tension escalates as viewers witness the day of the heist. This episode captures the execution of the plan with real footage and dramatizations, detailing how the thieves bypassed complex security systems. Individual roles within the crew are highlighted, and the adrenaline of the heist is palpable as they gain access to the vault. The episode emphasizes the precision and daring of the operation.\\n\\n#### Episode 4: \"The Aftermath\"\\nFollowing the heist, this episode explores the immediate repercussions. News coverage of the incident is analyzed, and law enforcement\\'s response is laid bare. Interviews with detectives and investigators reveal the obstacles they face in piecing together the crime and tracking down the culprits. The episode discusses the wider implications of the heist on public trust in gold investments and security protocols.\\n\\n#### Episode 5: \"Caught in the Act\"\\nAs the investigation intensifies, this episode focuses on the breakthroughs that lead to the arrest of some thieves. Forensic evidence, tips from informants, and advancements in technology play crucial roles in the apprehensions. The episode ends with a cliffhanger, hinting that not all perpetrators have been captured and suggesting a broader conspiracy at play.\\n\\n#### Episode 6: \"The Final Chapter\"\\nIn the climactic conclusion, the hunt for the remaining thieves reaches its peak. Viewers learn about the fate of the stolen gold and hear directly from those impacted by the heist, including investors and security personnel. The documentary wraps up with key takeaways regarding security lessons learned, the evolution of theft prevention in the gold industry, and reflections on the heist\\'s legacy.\\n\\n### Format\\n- **Duration**: Each episode runs for 10 minutes.\\n- **Style**: A combination of interviews, dramatizations, expert commentary, and archived footage.\\n- **Visuals**: Engaging graphics and a suspenseful soundtrack to enhance the storytelling experience.\\n\\nThis documentary promises to captivate audiences with its thrilling narrative, shedding light on the complexities of heists and the individuals behind them. \\n\\n(Note: You can copy this text and save it as a document on your device.)', additional_kwargs={}, response_metadata={}, name='WebScraper')]}}\n",
      "---\n",
      "{'supervisor': {'next': 'FINISH'}}\n",
      "---\n"
     ]
    }
   ],
   "source": [
    "for s in research_chain.stream(\n",
    "    \"Write a plot for a Netflix Documentary on the Toronto Gold Heist with each episode being 10 minutes long\",\n",
    "    {\"recursion_limit\": 100},\n",
    "):\n",
    "    if \"__end__\" not in s:\n",
    "        pp.pprint(s)\n",
    "        print(\"---\")\n"
   ]
  },
  {
   "cell_type": "code",
   "execution_count": 111,
   "metadata": {},
   "outputs": [],
   "source": [
    "from langchain_core.messages import BaseMessage\n",
    "from langchain_openai.chat_models import ChatOpenAI\n",
    "\n",
    "llm = ChatOpenAI(model=\"gpt-4o-mini\")\n",
    "\n",
    "supervisor_node = create_team_supervisor(\n",
    "    llm,\n",
    "    \"You are a supervisor tasked with managing a conversation between the\"\n",
    "    \" following teams: {team_members}. Given the following user request,\"\n",
    "    \" respond with the worker to act next. Each worker will perform a\"\n",
    "    \" task and respond with their results and status. When finished,\"\n",
    "    \" respond with FINISH.\",\n",
    "    [\"ResearchTeam\", \"PaperWritingTeam\"],\n",
    ")"
   ]
  },
  {
   "cell_type": "code",
   "execution_count": 112,
   "metadata": {},
   "outputs": [],
   "source": [
    "# Top-level graph state\n",
    "class State(TypedDict):\n",
    "    messages: Annotated[List[BaseMessage], operator.add]\n",
    "    next: str\n",
    "\n",
    "\n",
    "def get_last_message(state: State) -> str:\n",
    "    return state[\"messages\"][-1].content\n",
    "\n",
    "\n",
    "def join_graph(response: dict):\n",
    "    return {\"messages\": [response[\"messages\"][-1]]}\n",
    "\n",
    "\n",
    "# Define the graph.\n",
    "super_graph = StateGraph(State)\n",
    "# First add the nodes, which will do the work\n",
    "super_graph.add_node(\"ResearchTeam\", get_last_message | research_chain | join_graph)\n",
    "super_graph.add_node(\n",
    "    \"PaperWritingTeam\", get_last_message | authoring_chain | join_graph\n",
    ")\n",
    "super_graph.add_node(\"supervisor\", supervisor_node)\n",
    "\n",
    "# Define the graph connections, which controls how the logic\n",
    "# propagates through the program\n",
    "super_graph.add_edge(\"ResearchTeam\", \"supervisor\")\n",
    "super_graph.add_edge(\"PaperWritingTeam\", \"supervisor\")\n",
    "super_graph.add_conditional_edges(\n",
    "    \"supervisor\",\n",
    "    lambda x: x[\"next\"],\n",
    "    {\n",
    "        \"PaperWritingTeam\": \"PaperWritingTeam\",\n",
    "        \"ResearchTeam\": \"ResearchTeam\",\n",
    "        \"FINISH\": END,\n",
    "    },\n",
    ")\n",
    "super_graph.add_edge(START, \"supervisor\")\n",
    "super_graph = super_graph.compile()"
   ]
  },
  {
   "cell_type": "code",
   "execution_count": 113,
   "metadata": {},
   "outputs": [
    {
     "data": {
      "image/jpeg": "[encoded data removed]",
      "text/plain": [
       "<IPython.core.display.Image object>"
      ]
     },
     "metadata": {},
     "output_type": "display_data"
    }
   ],
   "source": [
    "display(Image(super_graph.get_graph().draw_mermaid_png()))"
   ]
  },
  {
   "cell_type": "code",
   "execution_count": 115,
   "metadata": {},
   "outputs": [
    {
     "name": "stdout",
     "output_type": "stream",
     "text": [
      "{'supervisor': {'next': 'ResearchTeam'}}\n",
      "---\n",
      "{'ResearchTeam': {'messages': [HumanMessage(content='Here’s a refined plot for a Netflix documentary on the Toronto Gold Heist, structured into six 10-minute episodes, incorporating insights into the heist and its implications:\\n\\n### Title: \"The Toronto Gold Heist: A Daring Deception\"\\n\\n**Episode 1: The Setup**\\nThe series kicks off with a gripping overview of the Toronto Gold Heist, detailing its historical significance as one of Canada\\'s largest gold thefts. Viewers are introduced to the key players: the mastermind behind the heist, the thieves, and the Royal Canadian Mint\\'s security team. Expert interviews and archival footage shed light on the Mint\\'s operations and the immense value of the gold. The episode concludes with a tense atmosphere as it approaches the day before the heist, setting the stage for what’s to come.\\n\\n**Episode 2: The Heist Begins**\\nIn a dramatic recounting, this episode covers the day of the heist. Through a blend of reenactments and real eyewitness accounts, the meticulous execution of the thieves’ plan is revealed. They utilize insider knowledge, disguises, and advanced technology to bypass security measures at the Mint. The episode builds suspense as the thieves make their escape, leaving viewers eagerly anticipating the aftermath.\\n\\n**Episode 3: The Investigation**\\nThe focus shifts to the aftermath of the heist and the subsequent investigation led by the Toronto Police Service. This episode highlights the significant challenges investigators face, such as the scarcity of physical evidence and the complexities involved in tracking stolen gold. Interviews with detectives and forensic experts provide an inside look into their investigative techniques. The episode culminates in a breakthrough, teasing the potential identity of the culprits.\\n\\n**Episode 4: The Aftermath**\\nExploring the immediate consequences of the heist, this episode discusses the Royal Canadian Mint\\'s response, insurance claims, and the media frenzy that ensued. Financial experts analyze the gold market’s fluctuations post-heist. Insights into the lives of the thieves following the heist reveal how they either evaded capture or faced dire consequences, maintaining the tension of their fate.\\n\\n**Episode 5: Unraveling the Truth**\\nAs the investigation deepens, this episode highlights the unraveling of the thieves\\' network. It showcases the collaboration between Canadian and international law enforcement, using advanced tracking technologies to trace the stolen gold. New figures emerge, including informants and rival criminals. The narrative takes unexpected twists, leading to a dramatic revelation about the thieves’ whereabouts.\\n\\n**Episode 6: The Final Showdown**\\nThe finale builds to a thrilling conclusion with the confrontation between law enforcement and the thieves. Viewers witness the dramatic arrests and the crucial evidence that led to their capture. Insights from detectives involved in the case provide a personal touch to the resolution. The documentary wraps up with reflections on the heist’s legacy, discussing its impact on security protocols in financial institutions and the broader implications for crime and justice.\\n\\n**Epilogue: Gold\\'s Value**\\nIn a brief reflective segment, the documentary revisits the allure of gold in society, contemplating the lengths individuals will go to obtain it. This ties back to the heist, leaving audiences with thought-provoking questions about greed and its consequences, ensuring the narrative resonates even after the credits roll.', additional_kwargs={}, response_metadata={}, name='WebScraper')]}}\n",
      "---\n",
      "{'supervisor': {'next': 'PaperWritingTeam'}}\n",
      "---\n",
      "{'PaperWritingTeam': {'messages': [HumanMessage(content='The refined plot for the Netflix documentary on the Toronto Gold Heist has been saved successfully. If you need any further assistance or modifications, feel free to ask!', additional_kwargs={}, response_metadata={}, name='ChartGenerator')]}}\n",
      "---\n",
      "{'supervisor': {'next': 'FINISH'}}\n",
      "---\n"
     ]
    }
   ],
   "source": [
    "for s in super_graph.stream(\n",
    "    {\n",
    "        \"messages\": [\n",
    "            HumanMessage(\n",
    "                content=\"Write a plot for a Netflix Documentary on the Toronto Gold Heist with each episode being 10 minutes long\"\n",
    "            )\n",
    "        ],\n",
    "    },\n",
    "    {\"recursion_limit\": 150},\n",
    "):\n",
    "    if \"__end__\" not in s:\n",
    "        print(s)\n",
    "        print(\"---\")"
   ]
  },
  {
   "cell_type": "code",
   "execution_count": 116,
   "metadata": {},
   "outputs": [
    {
     "name": "stdout",
     "output_type": "stream",
     "text": [
      "'Here’s a refined plot for a Netflix documentary on the Toronto Gold Heist, structured into six 10-minute episodes, incorporating insights into the heist and its implications:\n",
      "\n",
      "### Title: \"The Toronto Gold Heist: A Daring Deception\"\n",
      "\n",
      "**Episode 1: The Setup**\n",
      "The series kicks off with a gripping overview of the Toronto Gold Heist, detailing its historical significance as one of Canada's largest gold thefts. Viewers are introduced to the key players: the mastermind behind the heist, the thieves, and the Royal Canadian Mint's security team. Expert interviews and archival footage shed light on the Mint's operations and the immense value of the gold. The episode concludes with a tense atmosphere as it approaches the day before the heist, setting the stage for what’s to come.\n",
      "\n",
      "**Episode 2: The Heist Begins**\n",
      "In a dramatic recounting, this episode covers the day of the heist. Through a blend of reenactments and real eyewitness accounts, the meticulous execution of the thieves’ plan is revealed. They utilize insider knowledge, disguises, and advanced technology to bypass security measures at the Mint. The episode builds suspense as the thieves make their escape, leaving viewers eagerly anticipating the aftermath.\n",
      "\n",
      "**Episode 3: The Investigation**\n",
      "The focus shifts to the aftermath of the heist and the subsequent investigation led by the Toronto Police Service. This episode highlights the significant challenges investigators face, such as the scarcity of physical evidence and the complexities involved in tracking stolen gold. Interviews with detectives and forensic experts provide an inside look into their investigative techniques. The episode culminates in a breakthrough, teasing the potential identity of the culprits.\n",
      "\n",
      "**Episode 4: The Aftermath**\n",
      "Exploring the immediate consequences of the heist, this episode discusses the Royal Canadian Mint's response, insurance claims, and the media frenzy that ensued. Financial experts analyze the gold market’s fluctuations post-heist. Insights into the lives of the thieves following the heist reveal how they either evaded capture or faced dire consequences, maintaining the tension of their fate.\n",
      "\n",
      "**Episode 5: Unraveling the Truth**\n",
      "As the investigation deepens, this episode highlights the unraveling of the thieves' network. It showcases the collaboration between Canadian and international law enforcement, using advanced tracking technologies to trace the stolen gold. New figures emerge, including informants and rival criminals. The narrative takes unexpected twists, leading to a dramatic revelation about the thieves’ whereabouts.\n",
      "\n",
      "**Episode 6: The Final Showdown**\n",
      "The finale builds to a thrilling conclusion with the confrontation between law enforcement and the thieves. Viewers witness the dramatic arrests and the crucial evidence that led to their capture. Insights from detectives involved in the case provide a personal touch to the resolution. The documentary wraps up with reflections on the heist’s legacy, discussing its impact on security protocols in financial institutions and the broader implications for crime and justice.\n",
      "\n",
      "**Epilogue: Gold's Value**\n",
      "In a brief reflective segment, the documentary revisits the allure of gold in society, contemplating the lengths individuals will go to obtain it. This ties back to the heist, leaving audiences with thought-provoking questions about greed and its consequences, ensuring the narrative resonates even after the credits roll.'\n",
      "      \n"
     ]
    }
   ],
   "source": [
    "print(\n",
    "    \"\"\"'Here’s a refined plot for a Netflix documentary on the Toronto Gold Heist, structured into six 10-minute episodes, incorporating insights into the heist and its implications:\\n\\n### Title: \"The Toronto Gold Heist: A Daring Deception\"\\n\\n**Episode 1: The Setup**\\nThe series kicks off with a gripping overview of the Toronto Gold Heist, detailing its historical significance as one of Canada\\'s largest gold thefts. Viewers are introduced to the key players: the mastermind behind the heist, the thieves, and the Royal Canadian Mint\\'s security team. Expert interviews and archival footage shed light on the Mint\\'s operations and the immense value of the gold. The episode concludes with a tense atmosphere as it approaches the day before the heist, setting the stage for what’s to come.\\n\\n**Episode 2: The Heist Begins**\\nIn a dramatic recounting, this episode covers the day of the heist. Through a blend of reenactments and real eyewitness accounts, the meticulous execution of the thieves’ plan is revealed. They utilize insider knowledge, disguises, and advanced technology to bypass security measures at the Mint. The episode builds suspense as the thieves make their escape, leaving viewers eagerly anticipating the aftermath.\\n\\n**Episode 3: The Investigation**\\nThe focus shifts to the aftermath of the heist and the subsequent investigation led by the Toronto Police Service. This episode highlights the significant challenges investigators face, such as the scarcity of physical evidence and the complexities involved in tracking stolen gold. Interviews with detectives and forensic experts provide an inside look into their investigative techniques. The episode culminates in a breakthrough, teasing the potential identity of the culprits.\\n\\n**Episode 4: The Aftermath**\\nExploring the immediate consequences of the heist, this episode discusses the Royal Canadian Mint\\'s response, insurance claims, and the media frenzy that ensued. Financial experts analyze the gold market’s fluctuations post-heist. Insights into the lives of the thieves following the heist reveal how they either evaded capture or faced dire consequences, maintaining the tension of their fate.\\n\\n**Episode 5: Unraveling the Truth**\\nAs the investigation deepens, this episode highlights the unraveling of the thieves\\' network. It showcases the collaboration between Canadian and international law enforcement, using advanced tracking technologies to trace the stolen gold. New figures emerge, including informants and rival criminals. The narrative takes unexpected twists, leading to a dramatic revelation about the thieves’ whereabouts.\\n\\n**Episode 6: The Final Showdown**\\nThe finale builds to a thrilling conclusion with the confrontation between law enforcement and the thieves. Viewers witness the dramatic arrests and the crucial evidence that led to their capture. Insights from detectives involved in the case provide a personal touch to the resolution. The documentary wraps up with reflections on the heist’s legacy, discussing its impact on security protocols in financial institutions and the broader implications for crime and justice.\\n\\n**Epilogue: Gold\\'s Value**\\nIn a brief reflective segment, the documentary revisits the allure of gold in society, contemplating the lengths individuals will go to obtain it. This ties back to the heist, leaving audiences with thought-provoking questions about greed and its consequences, ensuring the narrative resonates even after the credits roll.'\n",
    "      \"\"\"\n",
    ")"
   ]
  },
  {
   "cell_type": "markdown",
   "metadata": {},
   "source": [
    "# Planning Agent"
   ]
  },
  {
   "cell_type": "code",
   "execution_count": 121,
   "metadata": {},
   "outputs": [
    {
     "name": "stdout",
     "output_type": "stream",
     "text": [
      "================================\u001b[1m System Message \u001b[0m================================\n",
      "\n",
      "You are a helpful assistant.\n",
      "\n",
      "=============================\u001b[1m Messages Placeholder \u001b[0m=============================\n",
      "\n",
      "\u001b[33;1m\u001b[1;3m{messages}\u001b[0m\n"
     ]
    }
   ],
   "source": [
    "from langchain import hub\n",
    "from langchain_openai import ChatOpenAI\n",
    "\n",
    "from langgraph.prebuilt import create_react_agent\n",
    "\n",
    "# Get the prompt to use - you can modify this!\n",
    "prompt = hub.pull(\"ih/ih-react-agent-executor\")\n",
    "prompt.pretty_print()\n",
    "\n",
    "# Choose the LLM that will drive the agent\n",
    "llm = ChatOpenAI(model=\"gpt-4o-mini\")\n",
    "agent_executor = create_react_agent(llm, tools, state_modifier=prompt)"
   ]
  },
  {
   "cell_type": "code",
   "execution_count": 122,
   "metadata": {},
   "outputs": [],
   "source": [
    "import operator\n",
    "from typing import Annotated, List, Tuple\n",
    "from typing_extensions import TypedDict\n",
    "\n",
    "\n",
    "class PlanExecute(TypedDict):\n",
    "    input: str\n",
    "    plan: List[str]\n",
    "    past_steps: Annotated[List[Tuple], operator.add]\n",
    "    response: str"
   ]
  },
  {
   "cell_type": "code",
   "execution_count": 123,
   "metadata": {},
   "outputs": [],
   "source": [
    "from pydantic import BaseModel, Field\n",
    "\n",
    "\n",
    "class Plan(BaseModel):\n",
    "    \"\"\"Plan to follow in future\"\"\"\n",
    "\n",
    "    steps: List[str] = Field(\n",
    "        description=\"different steps to follow, should be in sorted order\"\n",
    "    )"
   ]
  },
  {
   "cell_type": "code",
   "execution_count": 127,
   "metadata": {},
   "outputs": [],
   "source": [
    "from langchain_core.prompts import ChatPromptTemplate\n",
    "\n",
    "planner_prompt = ChatPromptTemplate.from_messages(\n",
    "    [\n",
    "        (\n",
    "            \"system\",\n",
    "            \"\"\"For the given objective, come up with a simple step by step plan. \\\n",
    "This plan should involve individual tasks, that if executed correctly will yield the correct answer. Do not add any superfluous steps. \\\n",
    "The result of the final step should be the final answer. Make sure that each step has all the information needed - do not skip steps.\"\"\",\n",
    "        ),\n",
    "        (\"placeholder\", \"{messages}\"),\n",
    "    ]\n",
    ")\n",
    "planner = planner_prompt | ChatOpenAI(\n",
    "    model=\"gpt-4o-mini\", temperature=0\n",
    ").with_structured_output(Plan)"
   ]
  },
  {
   "cell_type": "code",
   "execution_count": 125,
   "metadata": {},
   "outputs": [],
   "source": [
    "from typing import Union\n",
    "\n",
    "\n",
    "class Response(BaseModel):\n",
    "    \"\"\"Response to user.\"\"\"\n",
    "\n",
    "    response: str\n",
    "\n",
    "\n",
    "class Act(BaseModel):\n",
    "    \"\"\"Action to perform.\"\"\"\n",
    "\n",
    "    action: Union[Response, Plan] = Field(\n",
    "        description=\"Action to perform. If you want to respond to user, use Response. \"\n",
    "        \"If you need to further use tools to get the answer, use Plan.\"\n",
    "    )\n",
    "\n",
    "\n",
    "replanner_prompt = ChatPromptTemplate.from_template(\n",
    "    \"\"\"For the given objective, come up with a simple step by step plan. \\\n",
    "This plan should involve individual tasks, that if executed correctly will yield the correct answer. Do not add any superfluous steps. \\\n",
    "The result of the final step should be the final answer. Make sure that each step has all the information needed - do not skip steps.\n",
    "\n",
    "Your objective was this:\n",
    "{input}\n",
    "\n",
    "Your original plan was this:\n",
    "{plan}\n",
    "\n",
    "You have currently done the follow steps:\n",
    "{past_steps}\n",
    "\n",
    "Update your plan accordingly. If no more steps are needed and you can return to the user, then respond with that. Otherwise, fill out the plan. Only add steps to the plan that still NEED to be done. Do not return previously done steps as part of the plan.\"\"\"\n",
    ")\n",
    "\n",
    "\n",
    "replanner = replanner_prompt | ChatOpenAI(\n",
    "    model=\"gpt-4o\", temperature=0\n",
    ").with_structured_output(Act)"
   ]
  },
  {
   "cell_type": "code",
   "execution_count": 126,
   "metadata": {},
   "outputs": [],
   "source": [
    "from typing import Literal\n",
    "from langgraph.graph import END\n",
    "\n",
    "\n",
    "async def execute_step(state: PlanExecute):\n",
    "    plan = state[\"plan\"]\n",
    "    plan_str = \"\\n\".join(f\"{i+1}. {step}\" for i, step in enumerate(plan))\n",
    "    task = plan[0]\n",
    "    task_formatted = f\"\"\"For the following plan:\n",
    "{plan_str}\\n\\nYou are tasked with executing step {1}, {task}.\"\"\"\n",
    "    agent_response = await agent_executor.ainvoke(\n",
    "        {\"messages\": [(\"user\", task_formatted)]}\n",
    "    )\n",
    "    return {\n",
    "        \"past_steps\": [(task, agent_response[\"messages\"][-1].content)],\n",
    "    }\n",
    "\n",
    "\n",
    "async def plan_step(state: PlanExecute):\n",
    "    plan = await planner.ainvoke({\"messages\": [(\"user\", state[\"input\"])]})\n",
    "    return {\"plan\": plan.steps}\n",
    "\n",
    "\n",
    "async def replan_step(state: PlanExecute):\n",
    "    output = await replanner.ainvoke(state)\n",
    "    if isinstance(output.action, Response):\n",
    "        return {\"response\": output.action.response}\n",
    "    else:\n",
    "        return {\"plan\": output.action.steps}\n",
    "\n",
    "\n",
    "def should_end(state: PlanExecute):\n",
    "    if \"response\" in state and state[\"response\"]:\n",
    "        return END\n",
    "    else:\n",
    "        return \"agent\""
   ]
  },
  {
   "cell_type": "code",
   "execution_count": 129,
   "metadata": {},
   "outputs": [],
   "source": [
    "from langgraph.graph import StateGraph, START\n",
    "\n",
    "workflow = StateGraph(PlanExecute)\n",
    "\n",
    "# Add the plan node\n",
    "workflow.add_node(\"planner\", plan_step)\n",
    "\n",
    "# Add the execution step\n",
    "workflow.add_node(\"agent\", execute_step)\n",
    "\n",
    "# Add a replan node\n",
    "workflow.add_node(\"replan\", replan_step)\n",
    "\n",
    "workflow.add_edge(START, \"planner\")\n",
    "\n",
    "# From plan we go to agent\n",
    "workflow.add_edge(\"planner\", \"agent\")\n",
    "\n",
    "# From agent, we replan\n",
    "workflow.add_edge(\"agent\", \"replan\")\n",
    "\n",
    "workflow.add_conditional_edges(\n",
    "    \"replan\",\n",
    "    should_end,\n",
    "    [\"agent\", END],\n",
    ")\n",
    "\n",
    "app = workflow.compile()"
   ]
  },
  {
   "cell_type": "code",
   "execution_count": 130,
   "metadata": {},
   "outputs": [
    {
     "data": {
      "image/jpeg": "[encoded data removed]",
      "text/plain": [
       "<IPython.core.display.Image object>"
      ]
     },
     "metadata": {},
     "output_type": "display_data"
    }
   ],
   "source": [
    "display(Image(app.get_graph(xray=True).draw_mermaid_png()))"
   ]
  },
  {
   "cell_type": "code",
   "execution_count": 131,
   "metadata": {},
   "outputs": [
    {
     "name": "stdout",
     "output_type": "stream",
     "text": [
      "{'plan': ['Episode 1: Introduction to the Toronto Gold Heist - Overview of the heist, its significance, and the players involved. Introduce the location, the Toronto International Gold Exchange, and the context of gold trading in Canada.', 'Episode 2: The Planning Phase - Explore how the heist was meticulously planned, including interviews with experts on heist strategies and insights into the criminal mind.', 'Episode 3: The Execution - A detailed account of the day of the heist, including the methods used by the thieves, the security measures in place, and how they were circumvented.', 'Episode 4: The Aftermath - Discuss the immediate consequences of the heist, including the response from law enforcement and the impact on the gold market.', 'Episode 5: The Investigation - Follow the investigation process, highlighting key leads, suspects, and the challenges faced by the police in solving the case.', 'Episode 6: Theories and Speculations - Present various theories about the heist, including potential inside jobs, and feature interviews with criminologists and former thieves.', \"Episode 7: The Legacy of the Heist - Examine how the Toronto Gold Heist has influenced security measures in financial institutions and the public's perception of crime in Canada.\"]}\n",
      "{'past_steps': [('Episode 1: Introduction to the Toronto Gold Heist - Overview of the heist, its significance, and the players involved. Introduce the location, the Toronto International Gold Exchange, and the context of gold trading in Canada.', '### Episode 1: Introduction to the Toronto Gold Heist\\n\\n**Overview of the Heist:**\\nThe Toronto Gold Heist, which took place on April 17, 2023, is one of the most significant thefts in Canadian history, involving the theft of over C$20 million (approximately US$15 million) worth of gold. This audacious heist involved 6,600 gold bars weighing over 400 kilograms, which were stolen from Toronto Pearson International Airport. The thieves executed their plan with remarkable precision, tricking Air Canada staff into loading the gold onto a getaway truck using forged shipping documents.\\n\\n**Significance:**\\nThe heist not only shocked the nation but also raised serious concerns about security measures at one of Canada’s busiest airports. It highlighted vulnerabilities in the cargo handling processes and sparked discussions about the adequacy of security protocols in place to protect high-value items. The aftermath of the heist continues to influence both law enforcement practices and security measures in financial institutions across Canada.\\n\\n**Key Players Involved:**\\nThe operation involved a group of thieves, some of whom were alleged to have connections with Air Canada. Reports suggest that two employees of Air Canada played key roles in facilitating the heist by providing insider information and assistance. Following the theft, police arrested 12 individuals in connection with the crime, indicating a well-coordinated effort that involved multiple players at various levels.\\n\\n**Location: Toronto International Gold Exchange:**\\nThe Toronto International Gold Exchange is a key hub for gold trading in Canada. It serves as a critical point for the buying and selling of gold, making it an attractive target for criminals looking to exploit the high value of precious metals. The exchange operates within a broader context of global gold trading, where Canada plays a significant role as a supplier and trading partner in the international market.\\n\\n**Context of Gold Trading in Canada:**\\nGold trading in Canada is a vital part of the economy, with the country being one of the top producers of gold globally. The significance of gold as a commodity has remained strong due to its role as a hedge against inflation and economic instability. The Toronto Gold Heist underscores the high stakes involved in the gold market and the lengths to which criminals will go to exploit it.\\n\\nThis introduction sets the stage for a deeper exploration of the planning, execution, and aftermath of the Toronto Gold Heist in the following episodes.')]}\n",
      "{'plan': ['Episode 2: The Planning Phase - Explore how the heist was meticulously planned, including interviews with experts on heist strategies and insights into the criminal mind.', 'Episode 3: The Execution - A detailed account of the day of the heist, including the methods used by the thieves, the security measures in place, and how they were circumvented.', 'Episode 4: The Aftermath - Discuss the immediate consequences of the heist, including the response from law enforcement and the impact on the gold market.', 'Episode 5: The Investigation - Follow the investigation process, highlighting key leads, suspects, and the challenges faced by the police in solving the case.', 'Episode 6: Theories and Speculations - Present various theories about the heist, including potential inside jobs, and feature interviews with criminologists and former thieves.', \"Episode 7: The Legacy of the Heist - Examine how the Toronto Gold Heist has influenced security measures in financial institutions and the public's perception of crime in Canada.\"]}\n",
      "{'past_steps': [('Episode 2: The Planning Phase - Explore how the heist was meticulously planned, including interviews with experts on heist strategies and insights into the criminal mind.', \"For **Episode 2: The Planning Phase** of your heist documentary series, here are some insights and resources regarding the meticulous planning involved in the Toronto Gold Heist, as well as the strategies used by criminals:\\n\\n### Key Insights on the Planning Phase\\n\\n1. **Expert Opinions on Heist Planning**:\\n   - A CTV News crime expert, Mark Mendelson, highlighted the necessity for thieves to have purchasers ready for the high-value items they plan to steal, emphasizing that such heists are far more complex than simply taking gold and walking away with it. This indicates that preparation goes beyond the act of theft itself, requiring a network and planning for the disposal of stolen goods. [Read more here](https://toronto-news.org/ctv/where-did-the-gold-go-crime-expert-weighs-in-on-unfolding-pearson-airport-heist-investigation/).\\n   - Another expert pointed out that the heist likely required insider knowledge to execute successfully, suggesting that the planning phase might have included acquiring information about security protocols and timing at Toronto Pearson International Airport. [More details here](https://toronto.ctvnews.ca/massive-gold-heist-at-toronto-pearson-likely-needed-insider-knowledge-expert-says-1.6367512).\\n\\n2. **Documentary References**:\\n   - Real-life heist documentaries provide a fascinating look into the strategic and psychological elements behind such crimes. These films often explore the minds of the criminals, revealing what drives their audacious plans. [Check out some examples here](https://www.factualamerica.com/crime-scene-stories/10-gripping-documentaries-about-real-life-heists).\\n   - The planning of infamous heists often involves a mastermind or a group of them, showcasing the complexities of criminal operations. In-depth studies of various heists can shed light on the meticulous preparations that lead to their execution. [Explore more here](https://medium.com/@akr225a24/the-heist-8cba7be0751c).\\n\\n3. **Historical Context**:\\n   - The evolution of organized crime and heist planning has been marked by significant events, such as the Brink's heist, which was meticulously planned and represented a turning point in the complexity and execution of such crimes. This historical perspective can provide context for the Toronto Gold Heist. [Learn more about this history here](https://www.historytools.org/stories/the-most-audacious-heists-in-history-a-historians-perspective).\\n\\n### Interview Suggestions\\n\\n- Consider interviewing criminologists who specialize in criminal psychology to gain insights into the mindset of masterminds behind heists.\\n- Speak with former law enforcement officials who have investigated heists to understand the common planning elements they observe in successful thefts.\\n\\n### Conclusion\\n\\nThe planning phase of the Toronto Gold Heist involved complex strategies that likely included insider knowledge, meticulous preparations, and a network for disposing of stolen goods. Utilizing expert interviews and historical context will enrich this episode and provide a comprehensive view of how such audacious crimes are orchestrated.\")]}\n",
      "{'plan': ['Episode 3: The Execution - Detail the day of the heist, including the methods used by the thieves, the security measures in place, and how they were circumvented.', 'Episode 4: The Aftermath - Discuss the immediate consequences of the heist, including the response from law enforcement and the impact on the gold market.', 'Episode 5: The Investigation - Follow the investigation process, highlighting key leads, suspects, and the challenges faced by the police in solving the case.', 'Episode 6: Theories and Speculations - Present various theories about the heist, including potential inside jobs, and feature interviews with criminologists and former thieves.', \"Episode 7: The Legacy of the Heist - Examine how the Toronto Gold Heist has influenced security measures in financial institutions and the public's perception of crime in Canada.\"]}\n",
      "{'past_steps': [('Episode 3: The Execution - Detail the day of the heist, including the methods used by the thieves, the security measures in place, and how they were circumvented.', \"### Episode 3: The Execution\\n\\n**Date of the Heist: [Insert Date]**\\n\\nOn the fateful day of the heist, the atmosphere was charged with anticipation. The thieves had meticulously planned every detail, and as dawn broke, their operation was set in motion. Below is a detailed account of the methods they employed, the security measures in place, and how they managed to circumvent them.\\n\\n#### The Thieves' Methods\\n\\n1. **Preparation and Reconnaissance:**\\n   - The thieves spent weeks surveying the target: a high-security vault in a Toronto financial institution. They noted the guards' shifts, the timing of deliveries, and the layout of the building.\\n   - They created a detailed blueprint of the facility, identifying entry and exit points.\\n\\n2. **Disguises and Deception:**\\n   - On the day of the heist, the thieves dressed as maintenance workers. This disguise allowed them to blend in with the legitimate flow of activity in the building.\\n   - They carried fake identification badges and tools that looked like they belonged to the facility's maintenance crew.\\n\\n3. **Timing the Heist:**\\n   - The operation was timed for a weekday morning when the building would be bustling with employees, but the vault would be less guarded due to a scheduled fire drill.\\n   - They planned the heist to coincide with the drill, which would distract security personnel.\\n\\n4. **Accessing the Vault:**\\n   - They entered through a service entrance that had minimal security checks. Using their maintenance worker disguises, they were allowed access to restricted areas.\\n   - Once inside, they used a combination of hacking tools and physical manipulation to bypass the electronic security systems of the vault.\\n\\n#### Security Measures in Place\\n\\n1. **Electronic Surveillance:**\\n   - The vault was equipped with state-of-the-art cameras and motion detectors.\\n   - The building had 24-hour monitoring by a security team.\\n\\n2. **Physical Security:**\\n   - There were armed guards stationed at key points throughout the facility.\\n   - The vault itself had a multi-layered locking mechanism that included biometric scanners and time locks.\\n\\n3. **Alarm Systems:**\\n   - An advanced alarm system was in place, designed to trigger if unauthorized access was attempted.\\n\\n#### Circumventing Security Measures\\n\\n1. **Hacking the Security System:**\\n   - Prior to the heist, the thieves had managed to infiltrate the facility’s network through a phishing attack, allowing them to disable certain cameras and alarms temporarily.\\n   - They used this access to loop security footage, creating the illusion that everything was normal during their entry.\\n\\n2. **Distraction Techniques:**\\n   - During the fire drill, the thieves created a diversion by intentionally setting off a smoke bomb in a different part of the building. This pulled the guards away from their posts, allowing the thieves to move freely.\\n   - They communicated using walkie-talkies disguised as maintenance radios, coordinating their movements without arousing suspicion.\\n\\n3. **Vault Access:**\\n   - The thieves had studied the biometric scanner and created a mold of the fingerprints of a legitimate employee, which they used to gain entry into the vault.\\n   - They had also prepared tools to manipulate the time lock, allowing them to access the vault without triggering the alarms.\\n\\n#### The Execution\\n\\nAs the fire drill commenced, chaos ensued. Employees evacuated the building, and the thieves swiftly moved into action. They accessed the vault, quickly gathering gold bullion and other valuables. The operation was executed with precision, and within minutes, they were on their way out, leaving behind a scene that would soon erupt in confusion.\\n\\nAs the authorities were alerted and the smoke cleared, the scale of the heist became apparent. The meticulous planning and execution of the thieves had successfully circumvented what was believed to be an impenetrable security system, marking this day as one of the most audacious heists in Canadian history. \\n\\nThis episode sets the stage for the aftermath and investigation that follows, as the impact of this event reverberates through the community and law enforcement agencies.\")]}\n",
      "{'plan': ['Episode 4: The Aftermath - Discuss the immediate consequences of the heist, including the response from law enforcement and the impact on the gold market.', 'Episode 5: The Investigation - Follow the investigation process, highlighting key leads, suspects, and the challenges faced by the police in solving the case.', 'Episode 6: Theories and Speculations - Present various theories about the heist, including potential inside jobs, and feature interviews with criminologists and former thieves.', \"Episode 7: The Legacy of the Heist - Examine how the Toronto Gold Heist has influenced security measures in financial institutions and the public's perception of crime in Canada.\"]}\n",
      "{'past_steps': [('Episode 4: The Aftermath - Discuss the immediate consequences of the heist, including the response from law enforcement and the impact on the gold market.', '### Episode 4: The Aftermath - Discussing the Immediate Consequences of the Heist\\n\\n#### Immediate Response from Law Enforcement\\nThe Toronto Gold Heist, which occurred on April 17, 2023, was a shocking and significant crime, leading to a robust response from law enforcement. Following the heist, Peel Regional Police initiated a comprehensive investigation, which included arresting multiple suspects connected to what has been described as the largest gold heist in Canadian history. At least 19 charges have been laid against various individuals implicated in the crime.\\n\\nPolice focused on various leads, including the use of a forged shipping document that misled Air Canada employees into loading the gold onto a getaway truck. This incident raised questions about the security protocols in place at Toronto Pearson International Airport, leading to calls for a thorough review of airport security measures.\\n\\n#### Impact on the Gold Market\\nThe immediate aftermath of the heist also had repercussions on the gold market. With over C$20 million worth of gold stolen, concerns arose regarding the potential flooding of the market with stolen gold and its impact on prices. Investors and market analysts closely monitored the situation, understanding that such a significant theft could influence supply dynamics and public confidence in gold as a secure asset.\\n\\nIn response to the heist, there have been discussions among financial institutions and security experts about enhancing security measures for transporting high-value commodities like gold. These discussions highlight the importance of maintaining strict protocols to prevent future incidents and ensure the integrity of the gold market.\\n\\n#### Summary\\nThe aftermath of the Toronto Gold Heist has seen a vigorous law enforcement response, including multiple arrests and ongoing investigations. The incident has not only raised questions about airport security but has also impacted the gold market, prompting discussions about security measures in the financial sector. As authorities continue to unravel the details of the heist, the implications for law enforcement and the gold market remain significant. \\n\\nFor further details, you can read more about the heist and its consequences [here](https://ici.radio-canada.ca/rci/en/news/1973838/heres-what-we-know-and-dont-about-the-20m-heist-at-pearson-airport).')]}\n",
      "{'plan': ['Episode 5: The Investigation - Follow the investigation process, highlighting key leads, suspects, and the challenges faced by the police in solving the case.', 'Episode 6: Theories and Speculations - Present various theories about the heist, including potential inside jobs, and feature interviews with criminologists and former thieves.', \"Episode 7: The Legacy of the Heist - Examine how the Toronto Gold Heist has influenced security measures in financial institutions and the public's perception of crime in Canada.\"]}\n",
      "{'past_steps': [('Episode 5: The Investigation - Follow the investigation process, highlighting key leads, suspects, and the challenges faced by the police in solving the case.', \"### Episode 5: The Investigation\\n\\nThe investigation into the Toronto Gold Heist, one of the largest thefts in Canadian history, has been a complex and multifaceted process. Here, we highlight key leads, suspects, and challenges faced by the police.\\n\\n#### Background on the Heist\\nOn April 17, 2023, approximately $20 million worth of gold bars, totaling around 60,000, were stolen from Toronto Pearson International Airport. The heist was meticulously planned and executed, raising questions about possible insider involvement.\\n\\n#### Key Leads\\n1. **Insider Information**: Initial investigations focused on the possibility that the heist was an inside job. Reports indicated that two employees of Air Canada were implicated in the planning and execution of the theft. This led police to scrutinize their activities and communications before and after the heist.\\n\\n2. **Encrypted Communications**: U.S. court documents revealed that suspects, including one identified as King-McLean, used encrypted messaging apps (like Threema) to communicate arrangements for cash transfers and travel plans post-heist. This digital trail provided crucial evidence for the investigators.\\n\\n3. **Seized Evidence**: Following the arrests, police recovered a kilogram of gold worth approximately $89,000. This recovery was part of a broader effort to trace the stolen assets and link them back to the suspects.\\n\\n#### Suspects\\nAs of April 2024, nine individuals have been charged in connection with the heist:\\n- **Air Canada Employees**: The involvement of employees gave credence to the theory of an inside job, stirring public interest and media speculation.\\n- **Others Involved**: Various suspects were identified, including Prasath Paramalingam, who was charged as an accessory after the fact.\\n\\n#### Challenges Faced by Police\\n1. **Complex Investigative Process**: The investigation required collaboration between local police and federal agencies, including the U.S. Alcohol, Tobacco, and Firearms Bureau, due to the suspects' potential interstate movements.\\n\\n2. **Public and Media Scrutiny**: The high-profile nature of the heist attracted significant media attention, complicating the investigation as police had to manage public expectations and maintain the integrity of the ongoing criminal inquiry.\\n\\n3. **Technology and Encryption**: The use of encrypted messaging presented a hurdle for investigators trying to piece together the events leading up to and following the heist. However, the successful decryption of some messages ultimately aided the investigation.\\n\\n#### Conclusion\\nThe investigation into the Toronto Gold Heist continues to unfold, with ongoing court proceedings against the suspects. The case remains a captivating narrative of crime in Canada, blending elements of insider betrayal, high-stakes theft, and complex police work. As the investigation progresses, it raises questions about security in financial institutions and the lengths individuals will go to in pursuit of wealth. \\n\\nFor more detailed coverage, you can explore additional sources:\\n- [CTV News on encrypted messages](https://toronto.ctvnews.ca/u-s-court-documents-unveil-encrypted-messages-between-suspects-in-toronto-pearson-airport-gold-heist-investigation-1.6914714)\\n- [Yahoo News on suspects charged](https://www.yahoo.com/news/9-suspects-charged-historic-20-170442303.html)\\n- [CBS News on investigation details](https://www.cbsnews.com/news/canada-gold-heist-toronto-police-charge-suspects/)\")]}\n",
      "{'plan': ['Episode 6: Theories and Speculations - Present various theories about the heist, including potential inside jobs, and feature interviews with criminologists and former thieves.', \"Episode 7: The Legacy of the Heist - Examine how the Toronto Gold Heist has influenced security measures in financial institutions and the public's perception of crime in Canada.\"]}\n",
      "{'past_steps': [('Episode 6: Theories and Speculations - Present various theories about the heist, including potential inside jobs, and feature interviews with criminologists and former thieves.', \"### Episode 6: Theories and Speculations on the Toronto Gold Heist\\n\\n#### Overview\\nOn April 17, 2023, a significant heist took place at Toronto Pearson International Airport, resulting in the theft of gold bars valued at over $20 million. This episode explores various theories regarding the heist, including potential inside jobs and the involvement of organized crime, as well as featuring interviews with criminologists and former thieves.\\n\\n#### Theories and Speculations\\n\\n1. **Inside Job Theory**:\\n   - Many experts believe that the complexity and scale of the heist indicate the involvement of insiders. According to a report by the Toronto Star, criminologists suggest that the heist was likely orchestrated by professionals who had detailed knowledge of the airport's operations and security protocols. This theory is reinforced by the fact that the thieves managed to bypass several security measures, which points to either collusion or significant planning.\\n   - **Interview Insight**: A criminologist might speculate that only someone familiar with the logistics and schedules at the airport could have executed such a precise operation. They might share insights on how insiders can provide critical information, such as shift changes and security weaknesses.\\n\\n2. **Organized Crime Involvement**:\\n   - Another prevalent theory is the involvement of organized crime syndicates. The use of encrypted messaging applications by suspects, as revealed in U.S. court documents, suggests a network of individuals possibly linked to larger criminal organizations. This points to a well-coordinated effort rather than a random act of theft.\\n   - **Expert Opinion**: A former thief could provide a unique perspective on how organized crime operates in heists, detailing the planning and execution phases that are often employed in high-stakes thefts.\\n\\n3. **Execution by Professionals**:\\n   - Reports indicate that the heist was executed with a level of professionalism that is indicative of experienced criminals. The thieves' ability to steal 6,600 gold bars without encountering significant resistance suggests a high level of planning and expertise.\\n   - **Criminologist Commentary**: Experts might discuss typical profiles of professional thieves and how they prepare for such jobs, including surveillance and reconnaissance before the heist.\\n\\n4. **Public Speculation and Media Influence**:\\n   - The media coverage of the heist has led to public speculation about various theories, including comparisons to famous heists in films and literature. This cultural framing can influence how the public perceives the crime and its perpetrators.\\n   - **Discussion Segment**: This section could include comments from media analysts about the impact of sensationalized reporting on public perception of crime and the potential glamorization of thieves.\\n\\n### Conclusion\\nAs we delve into the theories surrounding the Toronto Gold Heist, we aim to provide a comprehensive understanding of the various possibilities that could explain this audacious crime. Interviews with criminologists and former thieves will enrich the narrative, offering expert insights and personal anecdotes that highlight the intricate world of high-stakes theft.\\n\\n### References for Further Exploration\\n- [How the cops cracked the $24M Pearson gold heist](https://thebigstorypodcast.ca/2024/04/19/how-the-cops-cracked-the-24m-pearson-gold-heist/)\\n- [U.S. court documents unveil encrypted messages between suspects](https://toronto.ctvnews.ca/u-s-court-documents-unveil-encrypted-messages-between-suspects-in-toronto-pearson-airport-gold-heist-investigation-1.6914714)\\n- [The heist likely involved professionals](https://www.thestar.com/news/gta/obviously-there-were-people-on-both-ends-20-million-pearson-gold-heist-likely-a-professional/article_e63b2dac-aa65-5da6-ba72-84e9047cc037.html)\\n\\nThis episode promises to be a thought-provoking exploration of crime, motivation, and the ever-evolving tactics of thieves.\")]}\n",
      "{'plan': [\"Episode 7: The Legacy of the Heist - Examine how the Toronto Gold Heist has influenced security measures in financial institutions and the public's perception of crime in Canada.\", \"Episode 8: The Hunt for the Missing Gold - Investigate the ongoing efforts to recover the stolen gold, including international cooperation and the challenges faced in tracking the gold's movement.\", 'Episode 9: Interviews with Key Figures - Feature interviews with law enforcement officials, security experts, and possibly some of the suspects or their legal representatives to provide diverse perspectives on the heist.', 'Episode 10: Conclusion and Reflection - Summarize the key findings from the documentary, reflect on the impact of the heist, and discuss potential future implications for security and crime prevention.']}\n",
      "{'past_steps': [(\"Episode 7: The Legacy of the Heist - Examine how the Toronto Gold Heist has influenced security measures in financial institutions and the public's perception of crime in Canada.\", '### Episode 7: The Legacy of the Heist - The Toronto Gold Heist\\n\\n#### Influence on Security Measures in Financial Institutions\\n\\nThe Toronto Gold Heist, which occurred on April 17, 2023, involved the theft of C$20 million (US$15 million) worth of gold and cash from Toronto Pearson International Airport. The heist was executed by tricking Air Canada staff with forged shipping documents, leading to significant scrutiny over security measures at financial and transport institutions.\\n\\n1. **Increased Security Protocols**: In the aftermath of the heist, financial institutions and transportation services have been prompted to reevaluate and strengthen their security protocols. This includes enhancing background checks for employees, revising access controls, and utilizing more robust verification methods for shipments of valuable goods.\\n\\n2. **Technology Upgrades**: The heist has accelerated the adoption of advanced security technologies, such as biometric access controls, real-time tracking of shipments, and encrypted communication channels to prevent unauthorized access and ensure the integrity of cargo handling processes.\\n\\n3. **Legal Repercussions and Accountability**: The legal actions resulting from the heist, including lawsuits against Air Canada for lax security, highlight the importance of accountability in security practices. Institutions are now more aware that negligence can lead to significant financial losses, which has led to increased investment in security infrastructure.\\n\\n4. **Public Perception and Trust**: The brazen nature of the heist has also affected public perception of security in financial institutions. With more awareness of vulnerabilities, there is a growing demand from the public for transparency and accountability in how institutions protect valuable assets.\\n\\n#### Public Perception of Crime in Canada\\n\\nThe Toronto Gold Heist has significantly influenced the public\\'s perception of crime in Canada:\\n\\n1. **Increased Fear of Organized Crime**: The high-profile nature of the heist, characterized as an \"inside job,\" has raised concerns about organized crime\\'s infiltration into legitimate businesses. The public may feel more vulnerable knowing that such sophisticated operations can occur.\\n\\n2. **Media Coverage and Sensationalism**: Extensive media coverage of the event, including reports of the suspects\\' communications and the subsequent investigation, has kept the heist in the public eye. This continuous coverage can lead to heightened anxiety about crime and safety.\\n\\n3. **Discussion on Crime Prevention**: The heist has sparked discussions about the effectiveness of current crime prevention strategies and the need for better collaboration between law enforcement agencies and private security firms to prevent similar incidents in the future.\\n\\n4. **Cultural Impact**: The Toronto Gold Heist has already been likened to potential dramatizations, such as a Netflix series, which reflects the public\\'s fascination with crime stories and the complexities involved in high-stakes thefts. This can lead to a romanticized view of crime, complicating public attitudes towards law enforcement and criminals.\\n\\n### Conclusion\\n\\nThe Toronto Gold Heist has left a lasting legacy on both security measures within financial institutions and the public\\'s perception of crime in Canada. It has prompted a reevaluation of security protocols and fostered a culture of increased vigilance against organized crime, while simultaneously shaping public discussions around safety and crime prevention. The implications of this high-profile heist are likely to resonate for years to come. \\n\\nFor further details, you can refer to the following sources:\\n- [Toronto Pearson International Airport Heist - Wikipedia](https://en.wikipedia.org/wiki/Toronto_Pearson_International_Airport_heist)\\n- [Legal Battle Unfolds Over Toronto Airport Gold Heist - Insurance Business](https://www.insurancebusinessmag.com/ca/news/breaking-news/legal-battle-unfolds-over-toronto-airport-gold-heist-467522.aspx)\\n- [How the Cops Cracked the $24M Pearson Gold Heist - The Big Story Podcast](https://thebigstorypodcast.ca/2024/04/19/how-the-cops-cracked-the-24m-pearson-gold-heist/)')]}\n",
      "{'plan': [\"Episode 8: The Hunt for the Missing Gold - Investigate the ongoing efforts to recover the stolen gold, including international cooperation and the challenges faced in tracking the gold's movement.\", 'Episode 9: Interviews with Key Figures - Feature interviews with law enforcement officials, security experts, and possibly some of the suspects or their legal representatives to provide diverse perspectives on the heist.', 'Episode 10: Conclusion and Reflection - Summarize the key findings from the documentary, reflect on the impact of the heist, and discuss potential future implications for security and crime prevention.']}\n",
      "{'past_steps': [(\"Episode 8: The Hunt for the Missing Gold - Investigate the ongoing efforts to recover the stolen gold, including international cooperation and the challenges faced in tracking the gold's movement.\", '### Episode 8: The Hunt for the Missing Gold\\n\\n#### Investigating Ongoing Efforts to Recover Stolen Gold\\n\\nIn this episode, we will delve into the multifaceted efforts being made to recover stolen gold, focusing on international cooperation and the challenges that arise in tracking the movement of such assets. \\n\\n1. **International Cooperation**: \\n   - International cooperation is crucial for the successful recovery of assets that have been transferred or hidden in foreign jurisdictions. Countries are encouraged to assist each other in these efforts, as outlined in various research and policy documents. For instance, the Financial Action Task Force (FATF) has recently prioritized improving asset recovery outcomes and enhancing international collaboration, introducing amendments to its standards aimed at better asset recovery efforts.\\n\\n2. **Challenges Faced**:\\n   - Tracking the movement of stolen gold is fraught with challenges, including legal hurdles, varying jurisdictions, and the complexity involved in tracing the asset\\'s path through different countries. International bodies such as the United Nations Office on Drugs and Crime (UNODC) have documented the obstacles related to data collection and the need for streamlined communication between countries to facilitate asset recovery.\\n\\n3. **Case Studies and Examples**:\\n   - Several high-profile cases illustrate the difficulties in recovering stolen gold and similar assets. For example, the recovery efforts for assets linked to corruption and organized crime often face significant bureaucratic and legal challenges. The \"StAR\" initiative by the World Bank emphasizes the need for a collective global effort to combat corruption and enhance asset recovery.\\n\\n4. **Recent Developments**:\\n   - Looking at recent developments, the FATF\\'s amendments in November 2023, which focus on enhancing asset recovery responses, highlight a growing recognition of the need for effective international cooperation. As nations strengthen their frameworks for asset recovery, the hope is that this will lead to more successful recoveries in the future.\\n\\nIn conclusion, the ongoing hunt for missing gold underscores the importance of international collaboration and the complex challenges that law enforcement and recovery agencies face. This episode will feature expert interviews with law enforcement officials and international cooperation specialists to provide insights into the current state of efforts to recover stolen gold and the road ahead. \\n\\n#### Additional Resources\\n- [The Troubling Shortcomings of International Asset Freezes](https://www.academia.edu/74853692/The_Troubling_Shortcomings_of_International_Asset_Freezes_The_Hunt_for_Gaddafis_Lost_Billions)\\n- [Boosting FATF\\'s Global Asset Recovery Responses](https://www.rusi.org/explore-our-research/publications/policy-briefs/boosting-fatfs-global-asset-recovery-responses)\\n- [UNODC\\'s International Asset Recovery Efforts](https://www.unodc.org/documents/corruption/NairobiEGM2022/Session_I_-_StAR.pdf)\\n\\nThis comprehensive investigation will set the stage for the following episodes, where we will delve deeper into the perspectives of key figures involved in the recovery and legal processes surrounding the heist.')]}\n",
      "{'plan': ['Episode 9: Interviews with Key Figures - Feature interviews with law enforcement officials, security experts, and possibly some of the suspects or their legal representatives to provide diverse perspectives on the heist.', 'Episode 10: Conclusion and Reflection - Summarize the key findings from the documentary, reflect on the impact of the heist, and discuss potential future implications for security and crime prevention.']}\n",
      "{'past_steps': [('Episode 9: Interviews with Key Figures - Feature interviews with law enforcement officials, security experts, and possibly some of the suspects or their legal representatives to provide diverse perspectives on the heist.', 'For Episode 9, \"Interviews with Key Figures,\" you can consider the following angles and insights based on the search results:\\n\\n1. **Law Enforcement Perspectives**:\\n   - Engage with federal and local law enforcement officials who were involved in the investigation of significant heists, such as the $30 million theft from a vault in Los Angeles. Their insights can provide an understanding of the operational challenges and strategies employed during the investigation.\\n   - Example Source: [LA Times on the heist](https://www.latimes.com/california/story/2024-04-06/30-million-theft-from-l-a-vault-was-seemless-sophisticated-daring).\\n\\n2. **Security Experts**:\\n   - Interview security experts who can speak on the evolving tactics used by criminals in heists and the countermeasures that law enforcement is implementing. This could include discussions on how security technology has advanced and how it can be improved to prevent such crimes.\\n   - Consider the importance of rapport-building techniques in interviews, as highlighted by police research, which can influence the quality of information gathered during investigations.\\n   - Example Source: [Policing Institute on rapport-building](https://www.policinginstitute.org/onpolicing/rapport-building-in-interviews-and-interrogations-translating-research-to-practice/).\\n\\n3. **Legal Representatives of Suspects**:\\n   - If feasible, interviews with legal representatives of suspects involved in high-profile heists could provide an alternative perspective on the legal challenges faced by those accused of such crimes. They can discuss the implications of legal rulings on interviews and interrogations, such as the rights of suspects during police questioning.\\n   - Example Source: [Court Rulings on Interviews by Law Enforcement](https://www.police1.com/legal/articles/court-rulings-on-interviews-by-law-enforcement-6XFXwYMCu0JXS0Yb/).\\n\\n4. **Diverse Perspectives**:\\n   - Aim to include a range of voices, including those from community leaders or victims of heists if applicable, to paint a comprehensive picture of the impact of these crimes on the community and the justice system.\\n\\nBy gathering these diverse perspectives, Episode 9 will provide viewers with a thorough understanding of the complexities involved in heists and the multifaceted responses from law enforcement, security professionals, and the legal system.')]}\n",
      "{'plan': ['Episode 10: Conclusion and Reflection - Summarize the key findings from the documentary, reflect on the impact of the heist, and discuss potential future implications for security and crime prevention.']}\n",
      "{'past_steps': [('Episode 10: Conclusion and Reflection - Summarize the key findings from the documentary, reflect on the impact of the heist, and discuss potential future implications for security and crime prevention.', 'To summarize Episode 10: Conclusion and Reflection, we will consider the key findings from the documentary, reflect on the impact of the heist, and discuss potential future implications for security and crime prevention.\\n\\n### Key Findings from the Documentary\\n1. **The Nature of the Heist**: The documentary detailed a meticulously planned heist that showcased the sophistication and determination of the criminals involved. It highlighted the methods employed to bypass security systems, emphasizing the importance of insider knowledge.\\n\\n2. **Security Failures**: A significant focus was placed on the security lapses that allowed the heist to occur. This included outdated technology, lack of proper training for security personnel, and insufficient communication between different security teams.\\n\\n3. **Cultural Impact**: The heist not only had financial ramifications but also affected the cultural perception of security in the region. It sparked widespread discussions about vulnerability and trust in institutions.\\n\\n4. **Legal and Criminal Justice Reactions**: The aftermath of the heist led to changes in law enforcement practices and legal frameworks regarding theft and organized crime. It illustrated the challenges faced by law enforcement in keeping up with evolving criminal tactics.\\n\\n### Reflection on the Impact of the Heist\\n- **Public Awareness**: The heist raised public awareness about the importance of security measures in both private and public domains. Citizens began to demand better protection and transparency from institutions.\\n\\n- **Economic Consequences**: The financial losses incurred by the victims had a ripple effect on the local economy, impacting businesses and leading to increased insurance premiums.\\n\\n- **Criminal Behavior**: The high-profile nature of the heist may have inspired copycat crimes, as it demonstrated the potential for significant reward despite the risks involved.\\n\\n### Future Implications for Security and Crime Prevention\\n1. **Investment in Technology**: Organizations are likely to invest more in advanced security technologies, such as biometric systems, AI surveillance, and real-time monitoring to prevent similar incidents.\\n\\n2. **Training and Protocols**: Enhanced training programs for security personnel will become a priority, focusing on crisis management, threat identification, and communication protocols.\\n\\n3. **Public-Private Partnerships**: There may be a push for stronger collaborations between law enforcement agencies and private security firms to streamline response efforts and share intelligence.\\n\\n4. **Legislative Changes**: We could see new laws aimed at tightening regulations around security measures in vulnerable sectors, possibly leading to stricter penalties for those who exploit security weaknesses.\\n\\n5. **Community Engagement**: Increased emphasis on community vigilance, encouraging citizens to be proactive in reporting suspicious activities and fostering a culture of safety.\\n\\n### Conclusion\\nIn conclusion, the heist discussed in the documentary serves as a powerful case study that underscores the necessity for robust security measures and proactive crime prevention strategies. Its implications will likely shape the future landscape of security practices, influencing both institutional policies and community behaviors. The lessons learned from this event will be crucial in informing how society addresses security challenges moving forward.')]}\n",
      "{'response': 'All steps for the documentary plot on the Toronto Gold Heist have been completed. If you have any other questions or need further assistance, feel free to ask!'}\n"
     ]
    }
   ],
   "source": [
    "config = {\"recursion_limit\": 150}\n",
    "inputs = {\n",
    "    \"input\": \"Write a plot for a Netflix Documentary on the Toronto Gold Heist with each episode being 10 minutes long?\"\n",
    "}\n",
    "async for event in app.astream(inputs, config=config):\n",
    "    for k, v in event.items():\n",
    "        if k != \"__end__\":\n",
    "            print(v)"
   ]
  },
  {
   "cell_type": "code",
   "execution_count": null,
   "metadata": {},
   "outputs": [],
   "source": []
  }
 ],
 "metadata": {
  "kernelspec": {
   "display_name": "gdev_fest_2024_env",
   "language": "python",
   "name": "python3"
  },
  "language_info": {
   "codemirror_mode": {
    "name": "ipython",
    "version": 3
   },
   "file_extension": ".py",
   "mimetype": "text/x-python",
   "name": "python",
   "nbconvert_exporter": "python",
   "pygments_lexer": "ipython3",
   "version": "3.12.2"
  }
 },
 "nbformat": 4,
 "nbformat_minor": 2
}
